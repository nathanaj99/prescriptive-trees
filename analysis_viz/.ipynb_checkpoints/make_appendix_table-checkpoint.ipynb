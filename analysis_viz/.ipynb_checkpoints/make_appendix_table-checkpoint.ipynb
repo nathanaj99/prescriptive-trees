{
 "cells": [
  {
   "cell_type": "code",
   "execution_count": 72,
   "id": "c4102330-f3db-4b6f-ac17-f5100b70d7cb",
   "metadata": {},
   "outputs": [],
   "source": [
    "import numpy as np\n",
    "import pandas as pd\n",
    "import matplotlib.pyplot as plt\n",
    "import os\n",
    "import glob\n",
    "import seaborn as sns\n",
    "import matplotlib\n",
    "import warnings\n",
    "warnings.filterwarnings(\"ignore\")"
   ]
  },
  {
   "cell_type": "markdown",
   "id": "b319ac3e-65f7-4d3c-aeba-cb220677b78a",
   "metadata": {},
   "source": [
    "## Warfarin Experiments"
   ]
  },
  {
   "cell_type": "code",
   "execution_count": 147,
   "id": "ed4b44b9-abc1-4a59-8e56-79c378a887ee",
   "metadata": {},
   "outputs": [],
   "source": [
    "def transform_model(row):\n",
    "    if row['method'] == 'DM':\n",
    "        return row['ml']\n",
    "    elif row['method'] == 'IPW':\n",
    "        return row['prop_pred']\n",
    "    else:\n",
    "        return f'{row[\"prop_pred\"]}, {row[\"ml\"]}'"
   ]
  },
  {
   "cell_type": "code",
   "execution_count": 148,
   "id": "21179960-90a4-4134-b73b-306cbdd63480",
   "metadata": {},
   "outputs": [],
   "source": [
    "df = pd.DataFrame()\n",
    "             \n",
    "# our method\n",
    "df_buffer = pd.read_csv(f'Results_Warfarin_prob/compiled_results/unconstrained_agg.csv')\n",
    "df_buffer['method'] = df_buffer['method'].map({'Direct': 'DM', 'Robust': 'DR', 'IPW': 'IPW'})\n",
    "df_buffer['prop_pred'] = df_buffer['prop_pred'].map({'tree': 'DT'})\n",
    "df_buffer['ml'] = 'RF/Log'\n",
    "\n",
    "df_buffer['model'] = df_buffer.apply(lambda row: transform_model(row), axis=1)\n",
    "df = pd.concat([df, df_buffer[['depth', 'method', 'model', 'gap', \n",
    "                               'solve_time', 'regret_test', 'best_found_test']]], ignore_index=True)"
   ]
  },
  {
   "cell_type": "code",
   "execution_count": 149,
   "id": "3013fdb5-a1fe-4eab-a290-3b7667b06a42",
   "metadata": {},
   "outputs": [],
   "source": [
    "# kallus bertsimas\n",
    "df_buffer = pd.read_csv(f'Results_Warfarin_prob/compiled_results/KB.csv')\n",
    "df_buffer['method'] = df_buffer['method'].map({'Kallus': 'K-PT', 'Bertsimas': 'B-PT'})\n",
    "df_buffer['model'] = '-'\n",
    "df = pd.concat([df, df_buffer[['depth', 'method', 'model', 'gap', \n",
    "                               'solve_time', 'regret_test', 'best_found_test']]], ignore_index=True)"
   ]
  },
  {
   "cell_type": "code",
   "execution_count": 150,
   "id": "3de2ec30-2d30-480c-a811-ebd7a8321b5b",
   "metadata": {},
   "outputs": [],
   "source": [
    "# PT\n",
    "df_buffer = pd.read_csv(f'other_methods/results/policytree/warfarin/raw_proba.csv')\n",
    "for col, oosp, regret in zip(['random_time', 'r0.06_time', 'r0.11_time'], ['random', 'r0.06', 'r0.11'],\n",
    "                            ['random_oos_regret', 'r0.06_oos_regret', 'r0.11_oos_regret']):\n",
    "    h = pd.DataFrame({'solve_time': df_buffer[col].tolist(),\n",
    "                    'regret_test': df_buffer[regret].tolist(),\n",
    "                    'best_found_test': df_buffer[oosp].tolist()})\n",
    "    h['method'] = 'PT'\n",
    "    h['gap'] = 0\n",
    "    h['best_found_test'] *= 100\n",
    "    h['depth'] = 2\n",
    "    h['model'] = 'DT, Mixed'\n",
    "    df = pd.concat([df, h], ignore_index=False)"
   ]
  },
  {
   "cell_type": "code",
   "execution_count": 151,
   "id": "23a24ace-a559-4351-928f-54978e928dd3",
   "metadata": {},
   "outputs": [],
   "source": [
    "# CF, CT\n",
    "for m, m_name in zip(['cf', 'cf_untuned', 'ct'], ['CF', 'CF (untuned)', 'CT']):\n",
    "    df_buffer = pd.read_csv(f'other_methods/results/CF/warfarin/{m}_baseline_raw.csv')\n",
    "    for col, oosp, regret, in zip(['time_random', 'time_r0.06', 'time_r0.11'], ['random', 'r0.06', 'r0.11'],\n",
    "                            ['random_oos_regret', 'r0.06_oos_regret', 'r0.11_oos_regret']):\n",
    "        h = pd.DataFrame({'solve_time': df_buffer[col].tolist(),\n",
    "                         'regret_test': df_buffer[regret].tolist(),\n",
    "                    'best_found_test': df_buffer[oosp].tolist()})\n",
    "        h['method'] = m_name\n",
    "        h['depth'] = '-'\n",
    "        h['best_found_test'] *= 100\n",
    "        h['gap'] = 0\n",
    "        h['model'] = '-'\n",
    "        df = pd.concat([df, h], ignore_index=False)"
   ]
  },
  {
   "cell_type": "code",
   "execution_count": 152,
   "id": "34b06740-3dc7-4dd3-a192-08a64c81f1f3",
   "metadata": {},
   "outputs": [],
   "source": [
    "#RC\n",
    "df_buffer = pd.read_csv(f'other_methods/results/RC/warfarin/rc_raw.csv')\n",
    "df_buffer_random = df_buffer[df_buffer['randomization'] == '0.33']\n",
    "df_buffer_random1 = df_buffer_random[df_buffer_random['model'] == 'balanced_rf']\n",
    "df_buffer_random1['model'] = 'best'\n",
    "df_buffer_random = pd.concat([df_buffer_random[df_buffer_random['model'] != 'lrrf'], df_buffer_random1], ignore_index=True)\n",
    "df_buffer_random['model'] = df_buffer_random['model'].map({'balanced_rf': 'RF', 'best': 'Best',\n",
    "                                                          'balanced_lr': 'Log'})\n",
    "\n",
    "df_buffer_other = df_buffer[df_buffer['randomization'] != '0.33']\n",
    "df_buffer_other['model'] = df_buffer_other['model'].map({'balanced_rf': 'RF', 'lrrf': 'Best',\n",
    "                                                          'balanced_lr': 'Log'})\n",
    "\n",
    "df_buffer = pd.concat([df_buffer_random, df_buffer_other], ignore_index=True).rename(columns={'oos_regret': 'regret_test',\n",
    "                                                                                              'oosp': 'best_found_test'})\n",
    "df_buffer['method'] = 'R&C'\n",
    "df_buffer['gap'] = 0\n",
    "df_buffer['depth'] = '-'\n",
    "df_buffer['best_found_test'] *= 100\n",
    "\n",
    "df_buffer = df_buffer.drop(columns=['randomization', 'dataset', 'seed'])\n",
    "df = pd.concat([df, df_buffer], ignore_index=False)"
   ]
  },
  {
   "cell_type": "code",
   "execution_count": 153,
   "id": "b3b28b77-2b1c-489d-b2c1-f09fd2ec6aae",
   "metadata": {},
   "outputs": [],
   "source": [
    "mean_df = df.groupby(['depth', 'method', 'model']).agg('mean').reset_index().round(2)"
   ]
  },
  {
   "cell_type": "code",
   "execution_count": 154,
   "id": "c6f6dd22-c0ac-4dea-98dd-32f72a943823",
   "metadata": {},
   "outputs": [],
   "source": [
    "std_df = df.groupby(['depth', 'method', 'model']).agg('std').reset_index().round(2)"
   ]
  },
  {
   "cell_type": "code",
   "execution_count": 160,
   "id": "d962aed1-38a1-4feb-bd57-9d83252be9a7",
   "metadata": {},
   "outputs": [],
   "source": [
    "combined = mean_df.merge(std_df, on=['depth', 'method', 'model'])"
   ]
  },
  {
   "cell_type": "code",
   "execution_count": 161,
   "id": "73443531-9672-4235-98bf-3fb4ed7ead29",
   "metadata": {},
   "outputs": [],
   "source": [
    "for col in ['gap', 'solve_time', 'regret_test', 'best_found_test']:\n",
    "    combined[col] = combined.apply(lambda row: f'{row[f\"{col}_x\"]:.2f} ± {row[f\"{col}_y\"]:.2f}', axis=1)\n",
    "    combined = combined.drop(columns=[f'{col}_{i}' for i in ['x', 'y']])"
   ]
  },
  {
   "cell_type": "code",
   "execution_count": 162,
   "id": "5d6f6a8f-976d-445e-9fcf-17ea30a55db9",
   "metadata": {},
   "outputs": [],
   "source": [
    "mapping = {'IPW': 1, 'DM': 2, 'DR': 3, 'K-PT': 4, 'B-PT': 5, 'PT': 6, 'CF': 0, 'CF (untuned)': 0, 'CT': 0, 'R&C': 0}"
   ]
  },
  {
   "cell_type": "code",
   "execution_count": 163,
   "id": "80eb87b8-842a-421e-a4a7-d2699ca571c8",
   "metadata": {},
   "outputs": [],
   "source": [
    "combined['method_map'] = combined['method'].apply(lambda x: mapping[x])"
   ]
  },
  {
   "cell_type": "code",
   "execution_count": 164,
   "id": "8c0689cd-9676-4a2a-a64b-6b63376f6c81",
   "metadata": {},
   "outputs": [
    {
     "name": "stdout",
     "output_type": "stream",
     "text": [
      "\\begin{tabular}{lllllll}\n",
      "\\toprule\n",
      "depth &       method &      model &           gap &        solve\\_time &     regret\\_test & best\\_found\\_test \\\\\n",
      "\\midrule\n",
      "    1 &          IPW &         DT &   0.00 ± 0.00 &       7.45 ± 1.69 & 399.35 ± 139.25 &   71.19 ± 10.05 \\\\\n",
      "    1 &           DM &     RF/Log &   0.00 ± 0.00 &       5.25 ± 2.12 & 283.12 ± 104.79 &    79.57 ± 7.56 \\\\\n",
      "    1 &           DR & DT, RF/Log &   0.00 ± 0.00 &       7.82 ± 1.80 & 335.47 ± 120.29 &    75.80 ± 8.68 \\\\\n",
      "    2 &          IPW &         DT &   0.00 ± 0.00 &    255.45 ± 65.13 &  317.39 ± 82.90 &    77.10 ± 5.98 \\\\\n",
      "    2 &           DM &     RF/Log &   0.00 ± 0.00 &    192.03 ± 64.13 &  288.79 ± 88.46 &    79.16 ± 6.38 \\\\\n",
      "    2 &           DR & DT, RF/Log &   0.00 ± 0.00 &    284.58 ± 83.83 &  279.32 ± 87.00 &    79.85 ± 6.28 \\\\\n",
      "    2 &         K-PT &          - &   0.00 ± 0.03 & 5435.72 ± 2792.71 & 522.12 ± 264.43 &   62.33 ± 19.08 \\\\\n",
      "    2 &         B-PT &          - & 52.30 ± 43.78 & 14333.53 ± 674.39 & 601.39 ± 239.26 &   56.61 ± 17.26 \\\\\n",
      "    2 &           PT &  DT, Mixed &   0.00 ± 0.00 &       2.35 ± 0.03 &  257.73 ± 76.39 &    81.40 ± 5.51 \\\\\n",
      "    3 &          IPW &         DT &  13.56 ± 4.15 &   14405.89 ± 0.50 &  246.35 ± 48.07 &    82.23 ± 3.47 \\\\\n",
      "    3 &           DM &     RF/Log &   2.10 ± 1.05 &   14406.33 ± 0.55 &  252.92 ± 69.22 &    81.75 ± 4.99 \\\\\n",
      "    3 &           DR & DT, RF/Log &   8.08 ± 2.38 &   14406.65 ± 0.70 &  243.00 ± 78.18 &    82.47 ± 5.64 \\\\\n",
      "    4 &          IPW &         DT &   9.51 ± 2.91 &   14412.07 ± 1.17 &  221.00 ± 39.47 &    84.05 ± 2.85 \\\\\n",
      "    4 &           DM &     RF/Log &   1.48 ± 0.73 &   14412.46 ± 1.05 &  243.23 ± 72.31 &    82.45 ± 5.22 \\\\\n",
      "    4 &           DR & DT, RF/Log &   6.26 ± 1.90 &   14413.10 ± 1.57 &  210.95 ± 48.01 &    84.78 ± 3.46 \\\\\n",
      "    - &           CF &          - &   0.00 ± 0.00 &       3.67 ± 0.19 &  304.47 ± 94.22 &    78.03 ± 6.80 \\\\\n",
      "    - & CF (untuned) &          - &   0.00 ± 0.00 &       3.75 ± 0.33 & 542.52 ± 334.07 &   60.86 ± 24.10 \\\\\n",
      "    - &           CT &          - &   0.00 ± 0.00 &       2.31 ± 0.32 & 459.35 ± 223.37 &   66.86 ± 16.12 \\\\\n",
      "    - &          R\\&C &       Best &   0.00 ± 0.00 &       0.95 ± 0.19 & 225.89 ± 163.98 &   83.70 ± 11.83 \\\\\n",
      "    - &          R\\&C &        Log &   0.00 ± 0.00 &       0.12 ± 0.01 & 261.47 ± 198.86 &   81.14 ± 14.35 \\\\\n",
      "    - &          R\\&C &         RF &   0.00 ± 0.00 &       0.83 ± 0.03 & 253.59 ± 125.24 &    81.70 ± 9.04 \\\\\n",
      "\\bottomrule\n",
      "\\end{tabular}\n",
      "\n"
     ]
    }
   ],
   "source": [
    "print(combined.sort_values(by=['depth', 'method_map']).drop(columns=['method_map']).to_latex(index=False))"
   ]
  },
  {
   "cell_type": "markdown",
   "id": "46c84634-e7b2-4217-b929-629287744e15",
   "metadata": {},
   "source": [
    "## Synthetic Experiments"
   ]
  },
  {
   "cell_type": "code",
   "execution_count": 165,
   "id": "f01e98ca-7a2c-438b-8737-05f469eb0644",
   "metadata": {},
   "outputs": [],
   "source": [
    "def transform_model(row):\n",
    "    if row['method'] == 'DM':\n",
    "        return row['ml']\n",
    "    elif row['method'] == 'IPW':\n",
    "        return row['prop_pred']\n",
    "    else:\n",
    "        return f'{row[\"prop_pred\"]}, {row[\"ml\"]}'"
   ]
  },
  {
   "cell_type": "code",
   "execution_count": 166,
   "id": "3a4a7a7a-67db-4bc9-9fd8-ed5e4de1ed7d",
   "metadata": {},
   "outputs": [],
   "source": [
    "df = pd.DataFrame()\n",
    "             \n",
    "# our method\n",
    "df_buffer = pd.read_csv(f'Results_Atheyv1/compiled_results/our_method.csv')\n",
    "df_buffer['method'] = df_buffer['method'].map({'Direct': 'DM', 'Robust': 'DR', 'IPW': 'IPW'})\n",
    "df_buffer = df_buffer[((df_buffer['budget'].isna()) | (df_buffer['budget'] == 1.0)) & (df_buffer['depth'] == 1)]\n",
    "# print(df_buffer['ml'].value_counts())\n",
    "# dm = df_buffer[(df_buffer['method'] == 'DM') & (df_buffer['ml'] == 'linear')]\n",
    "# dr = df_buffer[(df_buffer['method'] == 'DR') & ((df_buffer['ml'] == 'linear') & (df_buffer['prop_pred'] == 'tree'))]\n",
    "# ipw = df_buffer[(df_buffer['method'] == 'IPW') & (df_buffer['prop_pred'] == 'tree')]\n",
    "\n",
    "df_buffer['prop_pred'] = df_buffer['prop_pred'].map({'tree': 'DT', 'log': 'Log'})\n",
    "df_buffer['ml'] = df_buffer['ml'].map({'linear': 'LR', 'lasso': 'Lasso'})\n",
    "\n",
    "def transform_model(row):\n",
    "    if row['method'] == 'DM':\n",
    "        return row['ml']\n",
    "    elif row['method'] == 'IPW':\n",
    "        return row['prop_pred']\n",
    "    else:\n",
    "        return f'{row[\"prop_pred\"]}, {row[\"ml\"]}'\n",
    "    \n",
    "df_buffer['model'] = df_buffer.apply(lambda row: transform_model(row), axis=1)\n",
    "\n",
    "# df_buffer = pd.concat([ipw, dm, dr], ignore_index=True)\n",
    "\n",
    "df = pd.concat([df, df_buffer[['depth', 'method', 'model', 'gap', \n",
    "                               'solve_time', 'regret_test', 'best_found_test']]], ignore_index=True)\n",
    "\n",
    "\n",
    "# K-PT/B-PT\n",
    "df_buffer = pd.read_csv(f'Results_Atheyv1/compiled_results/KB.csv')\n",
    "df_buffer['method'] = df_buffer['method'].map({'Kallus': 'K-PT', 'Bertsimas': 'B-PT'})\n",
    "df_buffer = df_buffer[df_buffer['depth'] == 1]\n",
    "df_buffer['model'] = '-'\n",
    "df = pd.concat([df, df_buffer[['depth', 'method', 'model', 'gap', \n",
    "                               'solve_time', 'regret_test', 'best_found_test']]], ignore_index=True)\n",
    "\n",
    "# policytree\n",
    "df_buffer = pd.read_csv(f'other_methods/results/policytree/synthetic/raw.csv')\n",
    "for col, oosp, regret in zip([f'time_{i}' for i in ['0.1', '0.25', '0.5', '0.75', '0.9']],\n",
    "                            [f'p{i}' for i in ['0.1', '0.25', '0.5', '0.75', '0.9']],\n",
    "                            [f'oosr_{i}' for i in ['0.1', '0.25', '0.5', '0.75', '0.9']]):\n",
    "    h = pd.DataFrame({'solve_time': df_buffer[col].tolist(),\n",
    "                     'regret_test': df_buffer[regret].tolist(),\n",
    "                    'best_found_test': df_buffer[oosp].tolist()})\n",
    "    h['method'] = 'PT'\n",
    "    h['best_found_test'] *= 100\n",
    "    h['gap'] = 0\n",
    "    h['depth'] = 1\n",
    "    h['model'] = 'DT, LR'\n",
    "    df = pd.concat([df, h], ignore_index=False)\n",
    "    \n",
    "    \n",
    "# CF, CT\n",
    "for m, m_name in zip(['cf', 'ct'], ['CF', 'CT']):\n",
    "    df_buffer = pd.read_csv(f'other_methods/results/CF/synthetic/{m}_raw.csv')\n",
    "#     df_trans = pd.DataFrame(columns=['method', 'randomization', 'realized_outcome_oos'])\n",
    "    for col, oosp, regret in zip([f'time_{i}' for i in ['0.1', '0.25', '0.5', '0.75', '0.9']],\n",
    "                            [f'p{i}' for i in ['0.1', '0.25', '0.5', '0.75', '0.9']],\n",
    "                            [f'oosr_{i}' for i in ['0.1', '0.25', '0.5', '0.75', '0.9']]):\n",
    "        h = pd.DataFrame({'solve_time': df_buffer[col].tolist(),\n",
    "                     'regret_test': df_buffer[regret].tolist(),\n",
    "                    'best_found_test': df_buffer[oosp].tolist()})\n",
    "        h['method'] = m_name\n",
    "        h['gap'] = 0\n",
    "        h['best_found_test'] *= 100\n",
    "        h['depth'] = '-'\n",
    "        h['model'] = '-'\n",
    "        df = pd.concat([df, h], ignore_index=False)\n",
    "    \n",
    "    \n",
    "# RC\n",
    "fp = 'other_methods/results/RC/synthetic/'\n",
    "df_buffer = pd.read_csv(os.path.join(fp, 'raw.csv'))\n",
    "df_buffer = df_buffer[df_buffer['method'] == 'lr']\n",
    "df_buffer['method'] = 'R&C'\n",
    "df_buffer = df_buffer.rename(columns={'time_elapsed': 'solve_time', 'oosp': 'best_found_test',\n",
    "                                     'oos_regret': 'regret_test'})\n",
    "df_buffer['gap'] = 0\n",
    "df_buffer['depth'] = '-'\n",
    "df_buffer['model'] = 'LR'\n",
    "df_buffer['best_found_test'] *= 100\n",
    "df = pd.concat([df, df_buffer[['depth', 'method', 'model', 'gap', \n",
    "                               'solve_time', 'regret_test', 'best_found_test']]], ignore_index=False)\n"
   ]
  },
  {
   "cell_type": "code",
   "execution_count": 167,
   "id": "d703a634-852a-448f-be0c-3dfe9a2d80b6",
   "metadata": {},
   "outputs": [],
   "source": [
    "mean_df = df.groupby(['depth', 'method', 'model']).agg('mean').reset_index().round(2)"
   ]
  },
  {
   "cell_type": "code",
   "execution_count": 168,
   "id": "b9625811-2275-4c90-874b-3f75c3a3c508",
   "metadata": {},
   "outputs": [],
   "source": [
    "std_df = df.groupby(['depth', 'method', 'model']).agg('std').reset_index().round(2)"
   ]
  },
  {
   "cell_type": "code",
   "execution_count": 172,
   "id": "265da902-f953-4998-9243-83bdf3d183f5",
   "metadata": {},
   "outputs": [],
   "source": [
    "combined = mean_df.merge(std_df, on=['depth', 'method', 'model'])\n",
    "for col in ['gap', 'solve_time', 'regret_test', 'best_found_test']:\n",
    "    combined[col] = combined.apply(lambda row: f'{row[f\"{col}_x\"]:.2f} ± {row[f\"{col}_y\"]:.2f}', axis=1)\n",
    "    combined = combined.drop(columns=[f'{col}_{i}' for i in ['x', 'y']])"
   ]
  },
  {
   "cell_type": "code",
   "execution_count": 173,
   "id": "c678eb3c-6649-4dc4-9f15-58219144826e",
   "metadata": {},
   "outputs": [],
   "source": [
    "mapping = {'IPW': 1, 'DM': 2, 'DR': 3, 'K-PT': 4, 'B-PT': 5, 'PT': 6, 'CF': 0, 'R&C': 0, 'CT': 0}"
   ]
  },
  {
   "cell_type": "code",
   "execution_count": 174,
   "id": "6f46cc99-e528-4097-87a4-7abf47b8b6f8",
   "metadata": {},
   "outputs": [],
   "source": [
    "combined['method_map'] = combined['method'].apply(lambda x: mapping[x])"
   ]
  },
  {
   "cell_type": "code",
   "execution_count": 175,
   "id": "2731ada8-d807-48dc-8cbe-b9d6e25d568b",
   "metadata": {},
   "outputs": [
    {
     "name": "stdout",
     "output_type": "stream",
     "text": [
      "\\begin{tabular}{lllllll}\n",
      "\\toprule\n",
      "depth & method &      model &         gap &  solve\\_time &     regret\\_test & best\\_found\\_test \\\\\n",
      "\\midrule\n",
      "    1 &    IPW &         DT & 0.00 ± 0.00 & 1.34 ± 0.22 &  123.18 ± 95.63 &   66.25 ± 15.84 \\\\\n",
      "    1 &    IPW &        Log & 0.00 ± 0.00 & 1.31 ± 0.31 & 138.12 ± 114.65 &   63.89 ± 18.00 \\\\\n",
      "    1 &     DM &         LR & 0.00 ± 0.00 & 0.76 ± 0.40 &   64.22 ± 38.06 &    75.28 ± 9.87 \\\\\n",
      "    1 &     DM &      Lasso & 0.00 ± 0.00 & 0.57 ± 0.09 &  200.68 ± 72.26 &   53.44 ± 11.00 \\\\\n",
      "    1 &     DR &     DT, LR & 0.00 ± 0.00 & 0.86 ± 0.46 &   65.76 ± 40.68 &   75.01 ± 10.13 \\\\\n",
      "    1 &     DR &  DT, Lasso & 0.00 ± 0.00 & 2.08 ± 0.82 &   77.04 ± 70.23 &   73.70 ± 12.83 \\\\\n",
      "    1 &     DR &    Log, LR & 0.00 ± 0.00 & 0.95 ± 0.56 &   78.78 ± 55.88 &   72.98 ± 11.56 \\\\\n",
      "    1 &     DR & Log, Lasso & 0.00 ± 0.00 & 1.79 ± 1.01 &  111.47 ± 68.44 &   67.16 ± 11.88 \\\\\n",
      "    1 &   K-PT &          - & 0.00 ± 0.00 & 1.97 ± 0.76 & 161.83 ± 103.62 &   60.10 ± 17.46 \\\\\n",
      "    1 &   B-PT &          - & 0.00 ± 0.00 & 6.28 ± 1.36 & 179.04 ± 106.95 &   57.62 ± 17.63 \\\\\n",
      "    1 &     PT &     DT, LR & 0.00 ± 0.00 & 0.01 ± 0.00 &   62.01 ± 37.00 &   75.25 ± 10.29 \\\\\n",
      "    - &     CF &          - & 0.00 ± 0.00 & 0.75 ± 0.04 &   76.03 ± 57.20 &   73.13 ± 12.05 \\\\\n",
      "    - &     CT &          - & 0.00 ± 0.00 & 0.29 ± 0.02 &   92.20 ± 74.63 &   71.53 ± 13.64 \\\\\n",
      "    - &    R\\&C &         LR & 0.00 ± 0.00 & 0.23 ± 0.00 &   51.81 ± 32.87 &   77.11 ± 10.09 \\\\\n",
      "\\bottomrule\n",
      "\\end{tabular}\n",
      "\n"
     ]
    }
   ],
   "source": [
    "print(combined.sort_values(by=['depth', 'method_map']).drop(columns=['method_map']).to_latex(index=False))"
   ]
  },
  {
   "cell_type": "markdown",
   "id": "dd794e0e-0071-4a6e-9b7c-7cb0e62df84c",
   "metadata": {},
   "source": [
    "## Additional Experiments"
   ]
  },
  {
   "cell_type": "code",
   "execution_count": 228,
   "id": "5374d6e9-7479-4dfc-a308-888df0a921a1",
   "metadata": {},
   "outputs": [],
   "source": [
    "cols = ['method', 'file_name', 'num_rows',\n",
    "                          'depth', 'branching_limit', 'time_limit',\n",
    "                          'status', 'obj_value', 'gap', 'solve_time',\n",
    "                          'regret_train', 'best_found_train', 'treatment_acc_train',\n",
    "                          'regret_test', 'best_found_test', 'treatment_acc_test',\n",
    "                          'prop_pred', 'ml', 'protected_col', 'fairness_bound', 'treatment_budget', 'budget']"
   ]
  },
  {
   "cell_type": "code",
   "execution_count": 241,
   "id": "08774d72-b2ac-40a8-be65-d0cc1d5a424a",
   "metadata": {},
   "outputs": [],
   "source": [
    "df_buffer = pd.read_csv(f'Results_Warfarin_prob/compiled_results/dr_synthetic.csv', names=cols, header=None)"
   ]
  },
  {
   "cell_type": "code",
   "execution_count": 242,
   "id": "b4e8b1e4-8ab2-4839-bf18-c7b59cc49637",
   "metadata": {},
   "outputs": [],
   "source": [
    "df_buffer1 = pd.read_csv(f'Results_Atheyv1/compiled_results/DR.csv')"
   ]
  },
  {
   "cell_type": "code",
   "execution_count": 243,
   "id": "533fe39e-b204-4887-850b-39693ffa6b61",
   "metadata": {},
   "outputs": [],
   "source": [
    "df_buffer['randomization'] = df_buffer['file_name'].apply(lambda x: float(x.split('_')[-2]))\n",
    "df_buffer['split'] = df_buffer['file_name'].apply(lambda x: int(x.split('_')[-1]))\n",
    "df_buffer = df_buffer.rename(columns={'prop_pred': 'propensity_score_pred'})[['split', 'randomization', 'budget',\n",
    "                                                                              'propensity_score_pred', 'ml',\n",
    "                                                                             'solve_time']]"
   ]
  },
  {
   "cell_type": "code",
   "execution_count": 244,
   "id": "b5680f4b-adcb-4ff8-8c83-895e70655962",
   "metadata": {},
   "outputs": [],
   "source": [
    "df_buffer = df_buffer1.merge(df_buffer)"
   ]
  },
  {
   "cell_type": "code",
   "execution_count": 245,
   "id": "6008317b-8e4d-4ce9-b561-3794616a5b1d",
   "metadata": {},
   "outputs": [],
   "source": [
    "df_buffer['gap'] = 0\n",
    "df_buffer['method'] = 'DR'\n",
    "df_buffer['ml'] = df_buffer['ml'].map({'linear': 'LR', 'lasso': 'Lasso'})\n",
    "df_buffer['propensity_score_pred'] = df_buffer['propensity_score_pred'].map({'tree': 'DT', 'log': 'Log'})\n",
    "df_buffer['model'] = df_buffer.apply(lambda row: f'{row[\"ml\"]}, {row[\"propensity_score_pred\"]}', axis=1)\n",
    "df_buffer['oos_optimal_treatment'] *= 100"
   ]
  },
  {
   "cell_type": "code",
   "execution_count": 246,
   "id": "a83167c3-a5a1-487e-ae84-92b66d136f86",
   "metadata": {},
   "outputs": [],
   "source": [
    "def budget_mapping(x):\n",
    "    dic = {\n",
    "        '0.05-0.09': [0.05, 0.09],\n",
    "        '0.10-0.14': [0.10, 0.14],\n",
    "        '0.15-0.19': [0.15, 0.19],\n",
    "        '0.20-0.24': [0.20, 0.24],\n",
    "        '0.25-0.29': [0.25, 0.29],\n",
    "        '0.30-0.34': [0.30, 0.34],\n",
    "        '0.35-0.40': [0.35, 0.40]\n",
    "    }\n",
    "    \n",
    "    for k, v in dic.items():\n",
    "        if x >= v[0] and x <= v[1]:\n",
    "            return k\n",
    "\n",
    "df_buffer['budget1'] = df_buffer['budget'].apply(lambda x: budget_mapping(x))"
   ]
  },
  {
   "cell_type": "code",
   "execution_count": 247,
   "id": "18dd744c-85d3-4be3-9d2f-d3d63a1d0d43",
   "metadata": {},
   "outputs": [],
   "source": [
    "df_buffer = df_buffer[['tree_depth', 'method', 'model', 'budget1', 'gap', 'solve_time', \n",
    "                       'oos_regret', 'oos_optimal_treatment']]"
   ]
  },
  {
   "cell_type": "code",
   "execution_count": 250,
   "id": "a5c92824-098d-4a79-9c0b-382143fce089",
   "metadata": {},
   "outputs": [],
   "source": [
    "mean_df = df_buffer.groupby(['tree_depth', 'method', 'model', 'budget1']).agg('mean').reset_index().round(2)\n",
    "std_df = df_buffer.groupby(['tree_depth', 'method', 'model', 'budget1']).agg('std').reset_index().round(2)\n",
    "\n",
    "combined = mean_df.merge(std_df, on=['tree_depth', 'method', 'model', 'budget1'])\n",
    "for col in ['gap', 'solve_time', 'oos_regret', 'oos_optimal_treatment']:\n",
    "    combined[col] = combined.apply(lambda row: f'{row[f\"{col}_x\"]:.2f} ± {row[f\"{col}_y\"]:.2f}', axis=1)\n",
    "    combined = combined.drop(columns=[f'{col}_{i}' for i in ['x', 'y']])"
   ]
  },
  {
   "cell_type": "code",
   "execution_count": 252,
   "id": "b5fd607d-fd95-43d6-9d2d-8fc9014de4e4",
   "metadata": {},
   "outputs": [
    {
     "name": "stdout",
     "output_type": "stream",
     "text": [
      "\\begin{tabular}{rlllllll}\n",
      "\\toprule\n",
      " tree\\_depth & method &      model &   budget1 &         gap &  solve\\_time &     oos\\_regret & oos\\_optimal\\_treatment \\\\\n",
      "\\midrule\n",
      "          1 &     DR &     LR, DT & 0.05-0.09 & 0.00 ± 0.00 & 0.16 ± 0.03 & 158.32 ± 49.39 &          58.35 ± 9.03 \\\\\n",
      "          1 &     DR &     LR, DT & 0.10-0.14 & 0.00 ± 0.00 & 0.22 ± 0.13 & 132.80 ± 43.61 &          61.54 ± 9.04 \\\\\n",
      "          1 &     DR &     LR, DT & 0.15-0.19 & 0.00 ± 0.00 & 0.23 ± 0.10 & 113.91 ± 44.06 &          65.44 ± 9.48 \\\\\n",
      "          1 &     DR &     LR, DT & 0.20-0.24 & 0.00 ± 0.00 & 0.20 ± 0.11 &  85.58 ± 32.88 &          70.01 ± 8.02 \\\\\n",
      "          1 &     DR &     LR, DT & 0.25-0.29 & 0.00 ± 0.00 & 0.23 ± 0.13 &  77.34 ± 32.68 &          72.25 ± 8.12 \\\\\n",
      "          1 &     DR &     LR, DT & 0.30-0.34 & 0.00 ± 0.00 & 0.23 ± 0.13 &  69.97 ± 34.71 &          73.71 ± 8.56 \\\\\n",
      "          1 &     DR &     LR, DT & 0.35-0.40 & 0.00 ± 0.00 & 0.23 ± 0.14 &  66.32 ± 36.18 &          75.04 ± 8.86 \\\\\n",
      "          1 &     DR &    LR, Log & 0.05-0.09 & 0.00 ± 0.00 & 0.19 ± 0.11 & 163.39 ± 46.47 &          57.67 ± 8.51 \\\\\n",
      "          1 &     DR &    LR, Log & 0.10-0.14 & 0.00 ± 0.00 & 0.22 ± 0.15 & 139.03 ± 41.97 &          60.64 ± 8.44 \\\\\n",
      "          1 &     DR &    LR, Log & 0.15-0.19 & 0.00 ± 0.00 & 0.23 ± 0.13 & 119.83 ± 45.13 &          64.53 ± 9.18 \\\\\n",
      "          1 &     DR &    LR, Log & 0.20-0.24 & 0.00 ± 0.00 & 0.22 ± 0.16 &  93.20 ± 40.82 &          68.85 ± 8.22 \\\\\n",
      "          1 &     DR &    LR, Log & 0.25-0.29 & 0.00 ± 0.00 & 0.24 ± 0.16 &  85.11 ± 42.53 &          70.99 ± 8.61 \\\\\n",
      "          1 &     DR &    LR, Log & 0.30-0.34 & 0.00 ± 0.00 & 0.24 ± 0.16 &  77.97 ± 44.93 &          72.40 ± 9.07 \\\\\n",
      "          1 &     DR &    LR, Log & 0.35-0.40 & 0.00 ± 0.00 & 0.26 ± 0.18 &  74.07 ± 46.99 &          73.80 ± 9.65 \\\\\n",
      "          1 &     DR &  Lasso, DT & 0.05-0.09 & 0.00 ± 0.00 & 0.29 ± 0.13 & 172.73 ± 59.95 &         56.89 ± 10.02 \\\\\n",
      "          1 &     DR &  Lasso, DT & 0.10-0.14 & 0.00 ± 0.00 & 0.33 ± 0.17 & 150.23 ± 63.71 &         60.15 ± 10.97 \\\\\n",
      "          1 &     DR &  Lasso, DT & 0.15-0.19 & 0.00 ± 0.00 & 0.37 ± 0.19 & 129.98 ± 70.03 &         63.92 ± 12.14 \\\\\n",
      "          1 &     DR &  Lasso, DT & 0.20-0.24 & 0.00 ± 0.00 & 0.46 ± 0.24 & 110.86 ± 71.28 &         67.15 ± 12.24 \\\\\n",
      "          1 &     DR &  Lasso, DT & 0.25-0.29 & 0.00 ± 0.00 & 0.47 ± 0.27 &  98.02 ± 64.04 &         69.78 ± 11.28 \\\\\n",
      "          1 &     DR &  Lasso, DT & 0.30-0.34 & 0.00 ± 0.00 & 0.46 ± 0.30 &  84.12 ± 60.11 &         72.13 ± 10.78 \\\\\n",
      "          1 &     DR &  Lasso, DT & 0.35-0.40 & 0.00 ± 0.00 & 0.41 ± 0.23 &  79.02 ± 64.46 &         73.62 ± 11.83 \\\\\n",
      "          1 &     DR & Lasso, Log & 0.05-0.09 & 0.00 ± 0.00 & 0.27 ± 0.14 & 180.83 ± 65.74 &         55.80 ± 10.47 \\\\\n",
      "          1 &     DR & Lasso, Log & 0.10-0.14 & 0.00 ± 0.00 & 0.29 ± 0.16 & 164.75 ± 74.07 &         57.94 ± 11.64 \\\\\n",
      "          1 &     DR & Lasso, Log & 0.15-0.19 & 0.00 ± 0.00 & 0.34 ± 0.18 & 148.86 ± 75.23 &         60.86 ± 12.30 \\\\\n",
      "          1 &     DR & Lasso, Log & 0.20-0.24 & 0.00 ± 0.00 & 0.34 ± 0.20 & 130.36 ± 73.55 &         63.94 ± 12.10 \\\\\n",
      "          1 &     DR & Lasso, Log & 0.25-0.29 & 0.00 ± 0.00 & 0.40 ± 0.25 & 124.98 ± 73.15 &         65.19 ± 12.03 \\\\\n",
      "          1 &     DR & Lasso, Log & 0.30-0.34 & 0.00 ± 0.00 & 0.36 ± 0.23 & 117.06 ± 76.89 &         66.58 ± 12.74 \\\\\n",
      "          1 &     DR & Lasso, Log & 0.35-0.40 & 0.00 ± 0.00 & 0.36 ± 0.22 & 114.78 ± 76.44 &         67.13 ± 12.96 \\\\\n",
      "\\bottomrule\n",
      "\\end{tabular}\n",
      "\n"
     ]
    }
   ],
   "source": [
    "print(combined.sort_values(by=['model', 'budget1']).to_latex(index=False))"
   ]
  },
  {
   "cell_type": "markdown",
   "id": "935f3c69-96a4-465a-80ae-d577596ac60f",
   "metadata": {},
   "source": [
    "Warfarin"
   ]
  },
  {
   "cell_type": "code",
   "execution_count": 253,
   "id": "fd452c96-b20c-4606-b7c6-177241800ea3",
   "metadata": {},
   "outputs": [],
   "source": [
    "df_buffer = pd.read_csv(f'Results_Warfarin_prob/compiled_results/DM.csv')"
   ]
  },
  {
   "cell_type": "code",
   "execution_count": 254,
   "id": "5f831659-edbc-46ce-b9d9-9aba144a3f64",
   "metadata": {},
   "outputs": [],
   "source": [
    "cols = ['method', 'file_name', 'num_rows',\n",
    "                          'depth', 'branching_limit', 'time_limit',\n",
    "                          'status', 'obj_value', 'gap', 'solve_time',\n",
    "                          'regret_train', 'best_found_train', 'treatment_acc_train',\n",
    "                          'regret_test', 'best_found_test', 'treatment_acc_test',\n",
    "                          'prop_pred', 'ml', 'protected_col', 'fairness_bound', 'treatment_budget', 'budget']"
   ]
  },
  {
   "cell_type": "code",
   "execution_count": 255,
   "id": "1905df81-d26b-457b-a2ed-b1dbcef90108",
   "metadata": {},
   "outputs": [],
   "source": [
    "df_buffer1 = pd.read_csv('Results_Warfarin_prob/compiled_results/dm_warfarin.csv', header=None, names=cols)"
   ]
  },
  {
   "cell_type": "code",
   "execution_count": 256,
   "id": "958758ab-2848-41dd-bd11-d19ea948a435",
   "metadata": {},
   "outputs": [],
   "source": [
    "df_buffer1 = df_buffer1[df_buffer1['protected_col'].notna()]"
   ]
  },
  {
   "cell_type": "code",
   "execution_count": 261,
   "id": "c07f870f-4fc4-4042-b788-63c6918f146a",
   "metadata": {},
   "outputs": [],
   "source": [
    "df_buffer1['randomization'] = df_buffer1['file_name'].apply(lambda x: x.split('_')[-2])\n",
    "df_buffer1['split'] = df_buffer1['file_name'].apply(lambda x: int(x.split('_')[-1]))\n",
    "df_buffer1['seed'] = [1]*120 + [2]*120 + [3]*120 + [4]*120 + [5]*120"
   ]
  },
  {
   "cell_type": "code",
   "execution_count": 262,
   "id": "83816fa2-6d79-4adc-b535-7a0846181dc0",
   "metadata": {},
   "outputs": [],
   "source": [
    "df_buffer = df_buffer[df_buffer['fairness'] < 0.09]"
   ]
  },
  {
   "cell_type": "code",
   "execution_count": 264,
   "id": "9292ad1d-17fe-42f1-a32f-72c79daa9d5f",
   "metadata": {},
   "outputs": [],
   "source": [
    "df_buffer1 = df_buffer1.rename(columns={'fairness_bound': 'fairness'})"
   ]
  },
  {
   "cell_type": "code",
   "execution_count": 265,
   "id": "c83a0f15-2642-4bc7-b37e-d2c4b584307f",
   "metadata": {},
   "outputs": [],
   "source": [
    "merged = df_buffer.merge(df_buffer1[['randomization', 'split', 'seed', 'fairness', 'solve_time']])"
   ]
  },
  {
   "cell_type": "code",
   "execution_count": 271,
   "id": "d5240fa4-23cc-43bd-9cfe-5e79d7a6260e",
   "metadata": {},
   "outputs": [],
   "source": [
    "merged['oos_regret'] = 1386 - merged['realized_outcome_oos'] * 1386"
   ]
  },
  {
   "cell_type": "code",
   "execution_count": 272,
   "id": "393e9eff-a357-4302-b4d7-32e051d12c39",
   "metadata": {},
   "outputs": [],
   "source": [
    "merged['gap'] = 0"
   ]
  },
  {
   "cell_type": "code",
   "execution_count": 275,
   "id": "0da69054-02f8-4721-b78e-635f2f908fe6",
   "metadata": {},
   "outputs": [],
   "source": [
    "merged['model'] = 'RF/Log'"
   ]
  },
  {
   "cell_type": "code",
   "execution_count": 276,
   "id": "db25b03b-587f-4405-aaf3-8caf01fe7e08",
   "metadata": {},
   "outputs": [],
   "source": [
    "merged = merged[['tree_depth', 'method', 'model', 'fairness', 'gap', 'solve_time', 'dr_disparity', 'realized_disparity', \n",
    "                     'oos_regret', 'realized_outcome_oos']]"
   ]
  },
  {
   "cell_type": "code",
   "execution_count": 281,
   "id": "41e20e49-20d6-4094-90ce-0d97d1db7a41",
   "metadata": {},
   "outputs": [],
   "source": [
    "mean_df = merged.groupby(['tree_depth', 'method', 'model', 'fairness']).agg('mean').reset_index().round(2)\n",
    "std_df = merged.groupby(['tree_depth', 'method', 'model', 'fairness']).agg('std').reset_index().round(2)\n",
    "\n",
    "combined = mean_df.merge(std_df, on=['tree_depth', 'method', 'model', 'fairness'])\n",
    "for col in ['gap', 'solve_time', 'dr_disparity', 'realized_disparity', \n",
    "                     'oos_regret', 'realized_outcome_oos']:\n",
    "    combined[col] = combined.apply(lambda row: f'{row[f\"{col}_x\"]:.2f} ± {row[f\"{col}_y\"]:.2f}', axis=1)\n",
    "    combined = combined.drop(columns=[f'{col}_{i}' for i in ['x', 'y']])"
   ]
  },
  {
   "cell_type": "code",
   "execution_count": 282,
   "id": "a4f95ed5-9405-4746-a2fb-05b18ccebaaf",
   "metadata": {},
   "outputs": [
    {
     "name": "stdout",
     "output_type": "stream",
     "text": [
      "\\begin{tabular}{rllrllllll}\n",
      "\\toprule\n",
      " tree\\_depth & method &  model &  fairness &         gap &      solve\\_time & dr\\_disparity & realized\\_disparity &      oos\\_regret & realized\\_outcome\\_oos \\\\\n",
      "\\midrule\n",
      "          2 &     DM & RF/Log &      0.01 & 0.00 ± 0.00 & 316.31 ± 112.04 & -0.01 ± 0.01 &        0.01 ± 0.10 & 326.02 ± 106.02 &          0.76 ± 0.08 \\\\\n",
      "          2 &     DM & RF/Log &      0.02 & 0.00 ± 0.00 & 284.67 ± 125.32 & -0.02 ± 0.01 &       -0.00 ± 0.10 & 321.20 ± 107.86 &          0.77 ± 0.08 \\\\\n",
      "          2 &     DM & RF/Log &      0.03 & 0.00 ± 0.00 & 290.46 ± 130.17 & -0.02 ± 0.02 &       -0.01 ± 0.10 & 312.77 ± 105.23 &          0.77 ± 0.08 \\\\\n",
      "          2 &     DM & RF/Log &      0.04 & 0.00 ± 0.00 & 280.67 ± 116.49 & -0.03 ± 0.02 &       -0.02 ± 0.09 &  303.54 ± 99.35 &          0.78 ± 0.07 \\\\\n",
      "          2 &     DM & RF/Log &      0.05 & 0.00 ± 0.00 & 271.45 ± 123.14 & -0.03 ± 0.03 &       -0.03 ± 0.09 &  297.82 ± 96.61 &          0.79 ± 0.07 \\\\\n",
      "          2 &     DM & RF/Log &      0.06 & 0.00 ± 0.00 & 268.73 ± 151.18 & -0.03 ± 0.03 &       -0.03 ± 0.09 &  294.58 ± 93.16 &          0.79 ± 0.07 \\\\\n",
      "          2 &     DM & RF/Log &      0.07 & 0.00 ± 0.00 & 241.31 ± 111.07 & -0.04 ± 0.04 &       -0.04 ± 0.09 &  290.84 ± 92.17 &          0.79 ± 0.07 \\\\\n",
      "          2 &     DM & RF/Log &      0.08 & 0.00 ± 0.00 & 234.19 ± 105.39 & -0.04 ± 0.04 &       -0.04 ± 0.09 &  290.78 ± 92.97 &          0.79 ± 0.07 \\\\\n",
      "\\bottomrule\n",
      "\\end{tabular}\n",
      "\n"
     ]
    }
   ],
   "source": [
    "print(combined.sort_values(by=['fairness']).to_latex(index=False))"
   ]
  },
  {
   "cell_type": "code",
   "execution_count": null,
   "id": "6b4eacd8-9bb2-4464-8a6b-674c1c3cea36",
   "metadata": {},
   "outputs": [],
   "source": []
  }
 ],
 "metadata": {
  "kernelspec": {
   "display_name": "Python 3",
   "language": "python",
   "name": "python3"
  },
  "language_info": {
   "codemirror_mode": {
    "name": "ipython",
    "version": 3
   },
   "file_extension": ".py",
   "mimetype": "text/x-python",
   "name": "python",
   "nbconvert_exporter": "python",
   "pygments_lexer": "ipython3",
   "version": "3.8.8"
  }
 },
 "nbformat": 4,
 "nbformat_minor": 5
}
