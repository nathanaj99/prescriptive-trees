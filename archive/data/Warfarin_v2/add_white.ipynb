{
 "cells": [
  {
   "cell_type": "code",
   "execution_count": 4,
   "id": "1f98a0c4",
   "metadata": {},
   "outputs": [],
   "source": [
    "import os\n",
    "import pandas as pd\n",
    "import numpy as np"
   ]
  },
  {
   "cell_type": "code",
   "execution_count": 2,
   "id": "844b1c90",
   "metadata": {},
   "outputs": [],
   "source": [
    "os.mkdir('rf_balance_proba_white/')"
   ]
  },
  {
   "cell_type": "code",
   "execution_count": 5,
   "id": "3c7021dc",
   "metadata": {},
   "outputs": [],
   "source": [
    "# for i in range(1, 6):\n",
    "#     os.mkdir(f'rf_balance_proba_white/seed{i}')"
   ]
  },
  {
   "cell_type": "code",
   "execution_count": 5,
   "id": "4eae5487",
   "metadata": {},
   "outputs": [],
   "source": [
    "for i in [1, 2, 3, 4, 5]:\n",
    "    for j in os.listdir(f'rf_balance_proba_white/seed{i}'):\n",
    "        df = pd.read_csv(os.path.join(f'rf_balance_proba_white/seed{i}', j))\n",
    "        df['White'] = df.apply(lambda row: 1 if row['Asian'] == 0 and row['Black.or.African.American'] == 0 and row['Unknown.Race'] == 0 else 0, axis=1)\n",
    "        df.to_csv(os.path.join(f'rf_balance_proba_white/seed{i}', j), index=False)\n",
    "        "
   ]
  },
  {
   "cell_type": "code",
   "execution_count": null,
   "id": "8598def3",
   "metadata": {},
   "outputs": [],
   "source": []
  }
 ],
 "metadata": {
  "kernelspec": {
   "display_name": "Python 3",
   "language": "python",
   "name": "python3"
  },
  "language_info": {
   "codemirror_mode": {
    "name": "ipython",
    "version": 3
   },
   "file_extension": ".py",
   "mimetype": "text/x-python",
   "name": "python",
   "nbconvert_exporter": "python",
   "pygments_lexer": "ipython3",
   "version": "3.8.8"
  }
 },
 "nbformat": 4,
 "nbformat_minor": 5
}
