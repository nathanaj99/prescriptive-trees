{
 "cells": [
  {
   "cell_type": "code",
   "execution_count": 8,
   "id": "c4f04c71",
   "metadata": {},
   "outputs": [],
   "source": [
    "import pandas as pd\n",
    "import numpy as np\n",
    "import pickle"
   ]
  },
  {
   "cell_type": "code",
   "execution_count": 9,
   "id": "6598c106",
   "metadata": {},
   "outputs": [
    {
     "ename": "ModuleNotFoundError",
     "evalue": "No module named 'gurobipy'",
     "output_type": "error",
     "traceback": [
      "\u001b[0;31m---------------------------------------------------------------------------\u001b[0m",
      "\u001b[0;31mModuleNotFoundError\u001b[0m                       Traceback (most recent call last)",
      "\u001b[0;32m<ipython-input-9-abb7eb1f2fea>\u001b[0m in \u001b[0;36m<module>\u001b[0;34m\u001b[0m\n\u001b[1;32m      1\u001b[0m \u001b[0;32mwith\u001b[0m \u001b[0mopen\u001b[0m\u001b[0;34m(\u001b[0m\u001b[0;34mf'branching_{1}.pkl'\u001b[0m\u001b[0;34m,\u001b[0m \u001b[0;34m'rb'\u001b[0m\u001b[0;34m)\u001b[0m \u001b[0;32mas\u001b[0m \u001b[0mf\u001b[0m\u001b[0;34m:\u001b[0m\u001b[0;34m\u001b[0m\u001b[0;34m\u001b[0m\u001b[0m\n\u001b[0;32m----> 2\u001b[0;31m    \u001b[0mb_warm\u001b[0m \u001b[0;34m=\u001b[0m \u001b[0mpickle\u001b[0m\u001b[0;34m.\u001b[0m\u001b[0mload\u001b[0m\u001b[0;34m(\u001b[0m\u001b[0mf\u001b[0m\u001b[0;34m)\u001b[0m\u001b[0;34m\u001b[0m\u001b[0;34m\u001b[0m\u001b[0m\n\u001b[0m",
      "\u001b[0;31mModuleNotFoundError\u001b[0m: No module named 'gurobipy'"
     ]
    }
   ],
   "source": [
    "with open(f'branching_{1}.pkl', 'rb') as f:\n",
    "   b_warm = pickle.load(f)"
   ]
  },
  {
   "cell_type": "code",
   "execution_count": 18,
   "id": "a415cc4d",
   "metadata": {},
   "outputs": [],
   "source": [
    "df1 = pd.read_csv('FinalData_PresTrees_fixedDisc_rf_Pred.csv')"
   ]
  },
  {
   "cell_type": "code",
   "execution_count": 9,
   "id": "44048c25",
   "metadata": {},
   "outputs": [
    {
     "data": {
      "text/plain": [
       "Index(['t', 'ipw', 'y', 'y0', 'y1', 'y2', 'y3', 'DisablingCondition',\n",
       "       'Employed', 'Gender_Female', 'Gender_Male',\n",
       "       'PriorLivingCategory_Homeless_Situations',\n",
       "       'PriorLivingCategory_Institutional_Situations',\n",
       "       'PriorLivingCategory_Temporary_and_Permanent_Housing_Situations',\n",
       "       'PriorNegExitCt', 'Race_BlackAfAmerican', 'Race_Hispanic', 'Race_Other',\n",
       "       'Race_White', 'SleepLoc_Other', 'SleepLoc_Outdoors',\n",
       "       'SleepLoc_Safe_Haven', 'SleepLoc_Shelters',\n",
       "       'SleepLoc_Transitional_Housing', 'VeteranStatus', 'score_0to3',\n",
       "       'score_4to7', 'score_8to11', 'score_12to17',\n",
       "       'TotalMonthlyIncome_unknown', 'TotalMonthlyIncome_0',\n",
       "       'TotalMonthlyIncome_<250', 'TotalMonthlyIncome_250to1000',\n",
       "       'TotalMonthlyIncome_>=1000', 'EnrollAge_<35', 'EnrollAge_35to50',\n",
       "       'EnrollAge_51to60', 'EnrollAge_>60', 'TimeOnStreet_unknown_1',\n",
       "       'TimeOnStreet_<1Yr', 'TimeOnStreet_1to2yr', 'TimeOnStreet_>2yr'],\n",
       "      dtype='object')"
      ]
     },
     "execution_count": 9,
     "metadata": {},
     "output_type": "execute_result"
    }
   ],
   "source": [
    "df1.columns"
   ]
  },
  {
   "cell_type": "code",
   "execution_count": 2,
   "id": "b416e6ae",
   "metadata": {},
   "outputs": [],
   "source": [
    "df = pd.read_csv('prescriptive_trees_input_prob.csv')"
   ]
  },
  {
   "cell_type": "code",
   "execution_count": 5,
   "id": "cd65618d",
   "metadata": {},
   "outputs": [
    {
     "data": {
      "text/plain": [
       "['PersonalID',\n",
       " 'EnrollmentID',\n",
       " 'MoveInProj',\n",
       " 'MoveIn_Outcome24M',\n",
       " 'EntryIfEn_Outcome24M',\n",
       " 'Exit_Outcome12M',\n",
       " 'MoveIn_Outcome_Obs',\n",
       " 'EntryEn_Outcome_Obs',\n",
       " 'Exit_Outcome_Obs',\n",
       " 'AssessDate',\n",
       " 'HousingTypeName',\n",
       " 'Proj2',\n",
       " 'EnrollAge',\n",
       " 'Race_BlackAfAmerican',\n",
       " 'Race_Hispanic',\n",
       " 'Race_White',\n",
       " 'Gender_Female',\n",
       " 'Gender_Male',\n",
       " 'Gender_Trans',\n",
       " 'LivingSituation',\n",
       " 'PriorLivingCategory_Homeless Situations',\n",
       " 'PriorLivingCategory_Institutional Situations',\n",
       " 'PriorLivingCategory_Temporary and Permanent Housing Situations',\n",
       " 'EmploymentType_Txt_Full',\n",
       " 'EmploymentType_Txt_Part',\n",
       " 'EmploymentType_Txt_Seasonal',\n",
       " 'EmploymentType_Txt_unknown',\n",
       " 'NotEmployedReason_Txt_Looking',\n",
       " 'NotEmployedReason_Txt_NotLooking',\n",
       " 'NotEmployedReason_Txt_Unable',\n",
       " 'NotEmployedReason_Txt_unknown',\n",
       " 'IncomeFromAnySource',\n",
       " 'EmergShelter',\n",
       " 'Jail',\n",
       " 'NotInhabitable',\n",
       " 'PriorNegExitCt',\n",
       " 'DHS_HealthCenter_Access',\n",
       " 'DHS_Health_Center',\n",
       " 'Disability_Chronic',\n",
       " 'Disability_Developmental',\n",
       " 'Disability_HIV',\n",
       " 'Disability_Mental',\n",
       " 'Disability_None',\n",
       " 'Disability_Physical',\n",
       " 'Disability_SubstanceAbuse',\n",
       " 'SleepLoc_Other',\n",
       " 'SleepLoc_Outdoors',\n",
       " 'SleepLoc_Safe Haven',\n",
       " 'SleepLoc_Shelters',\n",
       " 'SleepLoc_Transitional Housing',\n",
       " 'c_How_Many_Times_DHS_Accessed',\n",
       " 'score',\n",
       " 'TimeinSys',\n",
       " 'TotalNumPrior',\n",
       " 'PH_RRH_Ever',\n",
       " 'Transition_Ever',\n",
       " 'Race_Other',\n",
       " 'SPA_City_None of the above',\n",
       " 'SPA_City_SPA 1',\n",
       " 'SPA_City_SPA 2',\n",
       " 'SPA_City_SPA 3',\n",
       " 'SPA_City_SPA 4',\n",
       " 'SPA_City_SPA 5',\n",
       " 'SPA_City_SPA 6',\n",
       " 'SPA_City_SPA 7',\n",
       " 'SPA_City_SPA 8',\n",
       " 'VeteranStatus_0',\n",
       " 'VeteranStatus_1',\n",
       " 'DomesticViolenceVictim_0',\n",
       " 'DomesticViolenceVictim_1',\n",
       " 'AbleBasicNeeds_0',\n",
       " 'AbleBasicNeeds_1',\n",
       " 'AnyAbuseCauseHomelessnessNotSoughtHelp_0',\n",
       " 'AnyAbuseCauseHomelessnessNotSoughtHelp_1',\n",
       " 'AnyoneThinkOweMoney_0',\n",
       " 'AnyoneThinkOweMoney_1',\n",
       " 'AttackedSinceHomeless_0',\n",
       " 'AttackedSinceHomeless_1',\n",
       " 'AvoidGettingHelpWhenSick_0',\n",
       " 'AvoidGettingHelpWhenSick_1',\n",
       " 'ChronicLiverKidneyLungHeartIssue_0',\n",
       " 'ChronicLiverKidneyLungHeartIssue_1',\n",
       " 'DrinkingDrugCauseEviction_0',\n",
       " 'DrinkingDrugCauseEviction_1',\n",
       " 'EvictionFromPublicHousing_0',\n",
       " 'EvictionFromPublicHousing_1',\n",
       " 'FrostbiteHypothermia_0',\n",
       " 'FrostbiteHypothermia_1',\n",
       " 'HIVOrAids_0',\n",
       " 'HIVOrAids_1',\n",
       " 'HappyActivities_0',\n",
       " 'HappyActivities_1',\n",
       " 'HomelessnessFromBadRelationship_0',\n",
       " 'HomelessnessFromBadRelationship_1',\n",
       " 'InterestInAIDsProgram_0',\n",
       " 'InterestInAIDsProgram_1',\n",
       " 'KidneyOrRenelDisease_0',\n",
       " 'KidneyOrRenelDisease_1',\n",
       " 'LeaveLivingPlaceDueToHealth_0',\n",
       " 'LeaveLivingPlaceDueToHealth_1',\n",
       " 'LegalLiableJailorFee_0',\n",
       " 'LegalLiableJailorFee_1',\n",
       " 'MentalHealthIssue_0',\n",
       " 'MentalHealthIssue_1',\n",
       " 'MethConviction_0',\n",
       " 'MethConviction_1',\n",
       " 'OthersForceYouDoThings_0',\n",
       " 'OthersForceYouDoThings_1',\n",
       " 'PastYrThreatenOrHarmSelfOther_0',\n",
       " 'PastYrThreatenOrHarmSelfOther_1',\n",
       " 'PhysicalDisabilityHardLiving_0',\n",
       " 'PhysicalDisabilityHardLiving_1',\n",
       " 'Pregnant_0',\n",
       " 'Pregnant_1',\n",
       " 'PrescribedMedicineNotUsedProperly_0',\n",
       " 'PrescribedMedicineNotUsedProperly_1',\n",
       " 'ReceiveMentalHealthProg_0',\n",
       " 'ReceiveMentalHealthProg_1',\n",
       " 'RegularMoney_0',\n",
       " 'RegularMoney_1',\n",
       " 'RiskyBehavior_0',\n",
       " 'RiskyBehavior_1',\n",
       " 'ServicesForSafety_0',\n",
       " 'ServicesForSafety_1',\n",
       " 'SexOffender_0',\n",
       " 'SexOffender_1',\n",
       " 'SharedHousingInterest_0',\n",
       " 'SharedHousingInterest_1',\n",
       " 'VA_HealthCare_Eligible_0',\n",
       " 'VA_HealthCare_Eligible_1',\n",
       " 'DisablingCondition_0',\n",
       " 'DisablingCondition_1',\n",
       " 'TimeOnStreet_0',\n",
       " 'TimeOnStreet_1',\n",
       " 'TimeOnStreet_2',\n",
       " 'LengthOfStay_0',\n",
       " 'LengthOfStay_1',\n",
       " 'MonthsHomelessPastThreeYears_1',\n",
       " 'MonthsHomelessPastThreeYears_2',\n",
       " 'MonthsHomelessPastThreeYears_3',\n",
       " 'TotalMonthlyIncome_1',\n",
       " 'TotalMonthlyIncome_2',\n",
       " 'TotalMonthlyIncome_3',\n",
       " 'TotalMonthlyIncome_4',\n",
       " 'Past6MonAmbulanceTimes_0',\n",
       " 'Past6MonAmbulanceTimes_1',\n",
       " 'Past6MonCrisisService_0',\n",
       " 'Past6MonCrisisService_1',\n",
       " 'Past6MonEmergencyTimes_0',\n",
       " 'Past6MonEmergencyTimes_1',\n",
       " 'Past6MonPoliceInteractions_0',\n",
       " 'Past6MonPoliceInteractions_1',\n",
       " 'Past6MonHospitalized_0',\n",
       " 'Past6MonHospitalized_1',\n",
       " 'StayOneOrMoreNightsJail_0',\n",
       " 'StayOneOrMoreNightsJail_1',\n",
       " 'PastThreeYrsHousedHomelessTimes_0',\n",
       " 'PastThreeYrsHousedHomelessTimes_1',\n",
       " 'PastThreeYrsHousedHomelessTimes_2',\n",
       " 'PastThreeYrsHousedHomelessTimes_3',\n",
       " 'PastThreeYrsHousedHomelessTimes_4',\n",
       " 'PastThreeYrsHousedHomelessTimes_5',\n",
       " 'TimesHomelessPastThreeYears_1',\n",
       " 'TimesHomelessPastThreeYears_2',\n",
       " 'PriorLOSDays_1',\n",
       " 'PriorLOSDays_2',\n",
       " 'PriorLOSDays_3',\n",
       " 'EndDate24M',\n",
       " 'Outcome24M',\n",
       " 'EndDate24M_valid',\n",
       " 'y',\n",
       " 't',\n",
       " 'ipw',\n",
       " 'TotalNumPrior1',\n",
       " 'TotalNumPrior2',\n",
       " 'TotalNumPrior3',\n",
       " 'EnrollAge1',\n",
       " 'EnrollAge2',\n",
       " 'EnrollAge3',\n",
       " 'EnrollAge4',\n",
       " 'EnrollAge5',\n",
       " 'score1',\n",
       " 'score2',\n",
       " 'score3',\n",
       " 'score4',\n",
       " 'y0',\n",
       " 'y1',\n",
       " 'y2',\n",
       " 'y3']"
      ]
     },
     "execution_count": 5,
     "metadata": {},
     "output_type": "execute_result"
    }
   ],
   "source": [
    "list(df.columns)"
   ]
  },
  {
   "cell_type": "code",
   "execution_count": 6,
   "id": "c7ee34e1",
   "metadata": {},
   "outputs": [
    {
     "data": {
      "text/plain": [
       "0         1.062022\n",
       "1         1.084871\n",
       "2         1.049486\n",
       "3         1.005431\n",
       "4         1.484158\n",
       "           ...    \n",
       "43938    87.051851\n",
       "43939     0.024690\n",
       "43940     0.950863\n",
       "43941    95.520339\n",
       "43942    24.592395\n",
       "Name: ipw, Length: 43943, dtype: float64"
      ]
     },
     "execution_count": 6,
     "metadata": {},
     "output_type": "execute_result"
    }
   ],
   "source": [
    "df['ipw']"
   ]
  },
  {
   "cell_type": "code",
   "execution_count": 23,
   "id": "6ab79fc7",
   "metadata": {},
   "outputs": [],
   "source": [
    "import pickle\n",
    "\n",
    "dic = {(1, 'X1'): 0, (1, 'X2'): 1}\n",
    "with open('test.pkl', 'wb') as f:\n",
    "    pickle.dump(dic, f)"
   ]
  },
  {
   "cell_type": "code",
   "execution_count": 24,
   "id": "2c375836",
   "metadata": {},
   "outputs": [],
   "source": [
    "with open('test.pkl', 'rb') as f:\n",
    "    d = pickle.load(f)"
   ]
  },
  {
   "cell_type": "code",
   "execution_count": 25,
   "id": "1a097718",
   "metadata": {},
   "outputs": [
    {
     "data": {
      "text/plain": [
       "{(1, 'X1'): 0, (1, 'X2'): 1}"
      ]
     },
     "execution_count": 25,
     "metadata": {},
     "output_type": "execute_result"
    }
   ],
   "source": [
    "d"
   ]
  },
  {
   "cell_type": "code",
   "execution_count": 26,
   "id": "d4ea593e",
   "metadata": {},
   "outputs": [],
   "source": [
    "d = 1\n",
    "p = None\n",
    "if d == 1:\n",
    "    with open('test.pkl', 'rb') as f:\n",
    "        p = pickle.load(f)"
   ]
  },
  {
   "cell_type": "code",
   "execution_count": null,
   "id": "6fb366b8",
   "metadata": {},
   "outputs": [],
   "source": []
  }
 ],
 "metadata": {
  "kernelspec": {
   "display_name": "Python 3",
   "language": "python",
   "name": "python3"
  },
  "language_info": {
   "codemirror_mode": {
    "name": "ipython",
    "version": 3
   },
   "file_extension": ".py",
   "mimetype": "text/x-python",
   "name": "python",
   "nbconvert_exporter": "python",
   "pygments_lexer": "ipython3",
   "version": "3.8.8"
  }
 },
 "nbformat": 4,
 "nbformat_minor": 5
}
