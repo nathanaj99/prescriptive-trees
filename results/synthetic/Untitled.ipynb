{
 "cells": [
  {
   "cell_type": "code",
   "execution_count": 1,
   "id": "10bc400a-6369-4ff8-8660-2cc4db8cf11c",
   "metadata": {},
   "outputs": [],
   "source": [
    "import os\n",
    "import pandas as pd\n",
    "import numpy as np"
   ]
  },
  {
   "cell_type": "code",
   "execution_count": 3,
   "id": "678bfa7f-b6a1-4122-9596-a62703b54569",
   "metadata": {},
   "outputs": [],
   "source": [
    "cols = ['method', 'file_name', 'num_rows',\n",
    "                          'depth', 'branching_limit', 'time_limit',\n",
    "                          'status', 'obj_value', 'gap', 'solve_time',\n",
    "                          'regret_train', 'best_found_train', 'treatment_acc_train',\n",
    "                          'regret_test', 'best_found_test', 'treatment_acc_test',\n",
    "                          'prop_pred', 'ml', 'budget']\n",
    "\n",
    "df = pd.DataFrame(columns=cols)\n",
    "\n",
    "for method in ['IPW', 'DM', 'Robust']:\n",
    "    for file in os.listdir(os.path.join(method)):\n",
    "        if '.csv' in file:\n",
    "            df_buffer = pd.read_csv(os.path.join(method, file), header=None, names=cols)\n",
    "            df = pd.concat([df, df_buffer], ignore_index=True)"
   ]
  },
  {
   "cell_type": "code",
   "execution_count": 5,
   "id": "85c87327-9a24-49fc-870e-31412fd9e4e3",
   "metadata": {},
   "outputs": [],
   "source": [
    "df.to_csv('compiled_results/our_method.csv', index=False)"
   ]
  },
  {
   "cell_type": "code",
   "execution_count": 6,
   "id": "1ec205db-3fb3-4ddb-926d-10b2cbb5773f",
   "metadata": {},
   "outputs": [],
   "source": [
    "## Kallus/Bertsimas method"
   ]
  },
  {
   "cell_type": "code",
   "execution_count": 10,
   "id": "64c45b77-d47b-43cf-acfb-c7e23b3fff76",
   "metadata": {},
   "outputs": [],
   "source": [
    "cols = ['method', 'file_name', 'num_rows',\n",
    "                          'depth', 'branching_limit', 'time_limit',\n",
    "                          'status', 'obj_value', 'gap', 'solve_time',\n",
    "                          'regret_train', 'best_found_train', 'treatment_acc_train',\n",
    "                          'regret_test', 'best_found_test', 'treatment_acc_test']\n",
    "\n",
    "df = pd.DataFrame(columns=cols)\n",
    "\n",
    "for method in ['Kallus', 'Bertsimas']:\n",
    "    for file in os.listdir(os.path.join(method)):\n",
    "        if '.csv' in file:\n",
    "            df_buffer = pd.read_csv(os.path.join(method, file), header=None, names=cols)\n",
    "            df = pd.concat([df, df_buffer], ignore_index=True)"
   ]
  },
  {
   "cell_type": "code",
   "execution_count": 11,
   "id": "5171f72d-2b21-4848-a2b2-c927824782a4",
   "metadata": {},
   "outputs": [],
   "source": [
    "df.to_csv('compiled_results/KB.csv', index=False)"
   ]
  },
  {
   "cell_type": "code",
   "execution_count": null,
   "id": "b9ed12d5-e324-4ae0-bcf2-10e9844eb94d",
   "metadata": {},
   "outputs": [],
   "source": []
  }
 ],
 "metadata": {
  "kernelspec": {
   "display_name": "Python 3",
   "language": "python",
   "name": "python3"
  },
  "language_info": {
   "codemirror_mode": {
    "name": "ipython",
    "version": 3
   },
   "file_extension": ".py",
   "mimetype": "text/x-python",
   "name": "python",
   "nbconvert_exporter": "python",
   "pygments_lexer": "ipython3",
   "version": "3.8.8"
  }
 },
 "nbformat": 4,
 "nbformat_minor": 5
}
