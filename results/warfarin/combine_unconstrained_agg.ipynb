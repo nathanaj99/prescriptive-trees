{
 "cells": [
  {
   "cell_type": "code",
   "execution_count": 1,
   "id": "acab3a75-e3e1-46c3-82a6-51cd9626dcad",
   "metadata": {},
   "outputs": [],
   "source": [
    "import os\n",
    "import pandas as pd\n",
    "import numpy as np"
   ]
  },
  {
   "cell_type": "code",
   "execution_count": 14,
   "id": "f3044cd1-a58e-415b-b90f-f1ef979c4611",
   "metadata": {},
   "outputs": [],
   "source": [
    "for seed in range(1, 6):\n",
    "    for file in os.listdir(os.path.join('raw', 'DM', f'seed{seed}')):\n",
    "        if '.csv' in file and '3600' in file:\n",
    "#             print(file)\n",
    "            # delete\n",
    "            os.remove(os.path.join('DM', f'seed{seed}', file))"
   ]
  },
  {
   "cell_type": "code",
   "execution_count": 15,
   "id": "7773720c-2d37-467d-9fe6-321a11b2e827",
   "metadata": {},
   "outputs": [],
   "source": [
    "cols = ['method', 'file_name', 'num_rows',\n",
    "                          'depth', 'branching_limit', 'time_limit',\n",
    "                          'status', 'obj_value', 'gap', 'solve_time',\n",
    "                          'regret_train', 'best_found_train', 'treatment_acc_train',\n",
    "                          'regret_test', 'best_found_test', 'treatment_acc_test',\n",
    "                          'prop_pred', 'ml']\n",
    "\n",
    "df = pd.DataFrame(columns=cols)\n",
    "\n",
    "for method in ['IPW', 'DM', 'Robust']:\n",
    "    for seed in range(1, 6):\n",
    "        for file in os.listdir(os.path.join('raw', method, f'seed{seed}')):\n",
    "            if '.csv' in file:\n",
    "                df_buffer = pd.read_csv(os.path.join(method, f'seed{seed}', file), header=None, names=cols)\n",
    "                df = pd.concat([df, df_buffer], ignore_index=True)"
   ]
  },
  {
   "cell_type": "code",
   "execution_count": 16,
   "id": "214c77c8-7036-473a-a747-ff06fc3f2677",
   "metadata": {},
   "outputs": [],
   "source": [
    "df['randomization'] = df['file_name'].apply(lambda x: x.split('_')[-2])\n",
    "df['split'] = df['file_name'].apply(lambda x: int(x.split('_')[-1]))"
   ]
  },
  {
   "cell_type": "code",
   "execution_count": 17,
   "id": "99f6ba49-98e8-4aea-9ae3-36d604139fb1",
   "metadata": {},
   "outputs": [],
   "source": [
    "df.sort_values(['method', 'randomization', 'split', 'depth', 'prop_pred', 'ml'], inplace=True)"
   ]
  },
  {
   "cell_type": "code",
   "execution_count": 20,
   "id": "0763b133-8c67-41e0-aa92-679ca522c206",
   "metadata": {},
   "outputs": [],
   "source": [
    "df.to_csv('compiled/unconstrained_agg.csv', index=False)"
   ]
  },
  {
   "cell_type": "markdown",
   "id": "a447af92-9ee2-42b6-9949-717b888e78a7",
   "metadata": {},
   "source": [
    "## compile kallus and bertsimas"
   ]
  },
  {
   "cell_type": "code",
   "execution_count": 4,
   "id": "748d612e-6bf3-4fea-80f0-d32563bc63a6",
   "metadata": {},
   "outputs": [],
   "source": [
    "cols = ['method', 'file_name', 'num_rows',\n",
    "                          'depth', 'branching_limit', 'time_limit',\n",
    "                          'status', 'obj_value', 'gap', 'solve_time',\n",
    "                          'regret_train', 'best_found_train', 'treatment_acc_train',\n",
    "                          'regret_test', 'best_found_test', 'treatment_acc_test']\n",
    "\n",
    "df = pd.DataFrame(columns=cols)\n",
    "\n",
    "for method in ['Kallus', 'Bertsimas']:\n",
    "    for seed in range(1, 6):\n",
    "        for file in os.listdir(os.path.join('raw', method, f'seed{seed}')):\n",
    "            if '.csv' in file:\n",
    "                df_buffer = pd.read_csv(os.path.join(method, f'seed{seed}', file), header=None, names=cols)\n",
    "                df = pd.concat([df, df_buffer], ignore_index=True)"
   ]
  },
  {
   "cell_type": "code",
   "execution_count": 5,
   "id": "62c6a929-828f-488a-96b4-99b947b0be1f",
   "metadata": {},
   "outputs": [],
   "source": [
    "df.to_csv('compiled/KB.csv', index=False)"
   ]
  },
  {
   "cell_type": "code",
   "execution_count": null,
   "id": "86a1c5c6-6e0d-4791-8b17-779233543dd3",
   "metadata": {},
   "outputs": [],
   "source": []
  }
 ],
 "metadata": {
  "kernelspec": {
   "display_name": "Python 3",
   "language": "python",
   "name": "python3"
  },
  "language_info": {
   "codemirror_mode": {
    "name": "ipython",
    "version": 3
   },
   "file_extension": ".py",
   "mimetype": "text/x-python",
   "name": "python",
   "nbconvert_exporter": "python",
   "pygments_lexer": "ipython3",
   "version": "3.8.8"
  }
 },
 "nbformat": 4,
 "nbformat_minor": 5
}
