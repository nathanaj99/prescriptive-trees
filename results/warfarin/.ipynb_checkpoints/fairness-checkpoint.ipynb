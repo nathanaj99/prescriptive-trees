{
 "cells": [
  {
   "cell_type": "code",
   "execution_count": 26,
   "id": "44df9d17",
   "metadata": {},
   "outputs": [],
   "source": [
    "import numpy as np\n",
    "import pandas as pd\n",
    "import matplotlib.pyplot as plt\n",
    "import os\n",
    "import glob\n",
    "from sklearn.linear_model import LogisticRegression\n",
    "from sklearn.ensemble import RandomForestClassifier"
   ]
  },
  {
   "cell_type": "code",
   "execution_count": 4,
   "id": "ccaee766",
   "metadata": {},
   "outputs": [],
   "source": [
    "fp = 'Robust/seed1/data_train_enc_0.33_1_Robust_d_1_t_3600_branching_limit_100.0_pred_tree.txt'"
   ]
  },
  {
   "cell_type": "code",
   "execution_count": 9,
   "id": "3c76555a",
   "metadata": {},
   "outputs": [],
   "source": [
    "fp_data = '../data/Warfarin_v2/rf_balance_proba/seed1'"
   ]
  },
  {
   "cell_type": "code",
   "execution_count": 46,
   "id": "5b1b3670",
   "metadata": {},
   "outputs": [],
   "source": [
    "train_df = pd.read_csv(os.path.join(fp_data, 'data_train_enc_0.33_1.csv'))\n",
    "test_df = pd.read_csv(os.path.join(fp_data, 'data_test_enc_0.33_1.csv'))\n",
    "\n",
    "train_df_raw = pd.read_csv(os.path.join(fp_data, 'data_train_0.33_1.csv'))\n",
    "test_df_raw = pd.read_csv(os.path.join(fp_data, 'data_test_0.33_1.csv'))"
   ]
  },
  {
   "cell_type": "code",
   "execution_count": 13,
   "id": "2d2eedf1",
   "metadata": {},
   "outputs": [
    {
     "data": {
      "text/plain": [
       "Index(['Age1.2', 'Age3.4', 'Age5.6', 'Age7', 'Age8.9', 'Height1', 'Height2',\n",
       "       'Height3', 'Height4', 'Height5', 'Weight1', 'Weight2', 'Weight3',\n",
       "       'Weight4', 'Weight5', 'Asian', 'Black.or.African.American',\n",
       "       'Unknown.Race', 'X.1..1', 'X.1..3', 'X.2..2', 'X.2..3', 'X.3..3',\n",
       "       'Unknown.Cyp2C9', 'Enzyme.Inducer', 'Amiodarone..Cordarone.',\n",
       "       'VKORC1.A.G', 'VKORC1.A.A', 'VKORC1.Missing', 'y', 't', 'y0', 'y1',\n",
       "       'y2', 'prob_t_pred_tree'],\n",
       "      dtype='object')"
      ]
     },
     "execution_count": 13,
     "metadata": {},
     "output_type": "execute_result"
    }
   ],
   "source": [
    "test_df.columns"
   ]
  },
  {
   "cell_type": "code",
   "execution_count": 14,
   "id": "c8585f9d",
   "metadata": {},
   "outputs": [],
   "source": [
    "split1 = 'VKORC1.A.A'\n",
    "left = test_df[test_df[split1] == 0]\n",
    "right = test_df[test_df[split1] == 1]"
   ]
  },
  {
   "cell_type": "code",
   "execution_count": 47,
   "id": "47c10679",
   "metadata": {},
   "outputs": [],
   "source": [
    "def split(row):\n",
    "    if row['VKORC1.A.A'] == 0:\n",
    "        return row['y1']\n",
    "    else:\n",
    "        return row['y0']\n",
    "    \n",
    "test_df['y_dec'] = test_df.apply(lambda row: split(row), axis=1)"
   ]
  },
  {
   "cell_type": "code",
   "execution_count": 48,
   "id": "be408ccc",
   "metadata": {},
   "outputs": [],
   "source": [
    "def run(df, df_test, model):\n",
    "    t_unique = df['t'].unique()\n",
    "    # for 0.1, y=1 will be minority class and for 0.85, y=0 will be minority class.\n",
    "    # perform smote to increase the accuracy?\n",
    "    for t in t_unique:\n",
    "#         print(i)\n",
    "        buffer = df[df['t'] == t]\n",
    "        X = buffer.iloc[:, :17]\n",
    "        y = buffer['y']\n",
    "        y_values = y.value_counts()\n",
    "\n",
    "#         if y_values[1] > 5 and y_values[0] > 5:\n",
    "#             smote = SMOTE(sampling_strategy=1.0, k_neighbors=5)\n",
    "#         elif y_values[0] <= 5:\n",
    "#             smote = SMOTE(sampling_strategy=1.0, k_neighbors=y_values[0] - 1)\n",
    "#         elif y_values[1] <= 5:\n",
    "#             smote = SMOTE(sampling_strategy=1.0, k_neighbors=y_values[1]-1)\n",
    "#         X, y = smote.fit_resample(X, y)\n",
    "#         print(y.value_counts())\n",
    "\n",
    "        lr = model.fit(X, y)\n",
    "        X_test = df_test.iloc[:, :17]\n",
    "        df_test['pred' + str(t)] = [i[1] for i in lr.predict_proba(X_test)]\n",
    "\n",
    "    ## EVALUATE PERFORMANCE\n",
    "    def find_highest_y(row):\n",
    "        if row['pred1'] > row['pred0'] and row['pred1'] > row['pred2']:\n",
    "            return 1\n",
    "        elif row['pred2'] > row['pred0'] and row['pred2'] > row['pred1']:\n",
    "            return 2\n",
    "        else:\n",
    "            return 0\n",
    "\n",
    "    def t_opt(row):\n",
    "        if row['y1'] == 1:\n",
    "            return 1\n",
    "        elif row['y2'] == 1:\n",
    "            return 2\n",
    "        else:\n",
    "            return 0\n",
    "\n",
    "    df_test['t_opt'] = df_test.apply(lambda row: t_opt(row), axis=1)    \n",
    "    df_test['t_pred'] = df_test.apply(lambda row: find_highest_y(row), axis=1)\n",
    "    \n",
    "    return df_test"
   ]
  },
  {
   "cell_type": "code",
   "execution_count": 51,
   "id": "c61fb904",
   "metadata": {},
   "outputs": [
    {
     "data": {
      "text/plain": [
       "Index(['Age', 'Height', 'Weight', 'Asian', 'Black.or.African.American',\n",
       "       'Unknown.Race', 'X.1..1', 'X.1..3', 'X.2..2', 'X.2..3', 'X.3..3',\n",
       "       'Unknown.Cyp2C9', 'Enzyme.Inducer', 'Amiodarone..Cordarone.',\n",
       "       'VKORC1.A.G', 'VKORC1.A.A', 'VKORC1.Missing', 'y', 't', 'y0', 'y1',\n",
       "       'y2', 'prob_t_pred_tree', 'pred0', 'pred1', 'pred2', 't_opt', 't_pred'],\n",
       "      dtype='object')"
      ]
     },
     "execution_count": 51,
     "metadata": {},
     "output_type": "execute_result"
    }
   ],
   "source": [
    "test_df_raw.columns"
   ]
  },
  {
   "cell_type": "code",
   "execution_count": 49,
   "id": "a5673816",
   "metadata": {},
   "outputs": [
    {
     "name": "stderr",
     "output_type": "stream",
     "text": [
      "/Users/nathanjo/anaconda3/lib/python3.8/site-packages/sklearn/linear_model/_logistic.py:763: ConvergenceWarning: lbfgs failed to converge (status=1):\n",
      "STOP: TOTAL NO. of ITERATIONS REACHED LIMIT.\n",
      "\n",
      "Increase the number of iterations (max_iter) or scale the data as shown in:\n",
      "    https://scikit-learn.org/stable/modules/preprocessing.html\n",
      "Please also refer to the documentation for alternative solver options:\n",
      "    https://scikit-learn.org/stable/modules/linear_model.html#logistic-regression\n",
      "  n_iter_i = _check_optimize_result(\n",
      "/Users/nathanjo/anaconda3/lib/python3.8/site-packages/sklearn/linear_model/_logistic.py:763: ConvergenceWarning: lbfgs failed to converge (status=1):\n",
      "STOP: TOTAL NO. of ITERATIONS REACHED LIMIT.\n",
      "\n",
      "Increase the number of iterations (max_iter) or scale the data as shown in:\n",
      "    https://scikit-learn.org/stable/modules/preprocessing.html\n",
      "Please also refer to the documentation for alternative solver options:\n",
      "    https://scikit-learn.org/stable/modules/linear_model.html#logistic-regression\n",
      "  n_iter_i = _check_optimize_result(\n",
      "/Users/nathanjo/anaconda3/lib/python3.8/site-packages/sklearn/linear_model/_logistic.py:763: ConvergenceWarning: lbfgs failed to converge (status=1):\n",
      "STOP: TOTAL NO. of ITERATIONS REACHED LIMIT.\n",
      "\n",
      "Increase the number of iterations (max_iter) or scale the data as shown in:\n",
      "    https://scikit-learn.org/stable/modules/preprocessing.html\n",
      "Please also refer to the documentation for alternative solver options:\n",
      "    https://scikit-learn.org/stable/modules/linear_model.html#logistic-regression\n",
      "  n_iter_i = _check_optimize_result(\n"
     ]
    }
   ],
   "source": [
    "test_df_raw = run(train_df_raw, test_df_raw, LogisticRegression())"
   ]
  },
  {
   "cell_type": "code",
   "execution_count": 58,
   "id": "77cbcf10",
   "metadata": {},
   "outputs": [],
   "source": [
    "test_df['y_logit'] = test_df_raw.apply(lambda row: 1 if row['t_opt'] == row['t_pred'] else 0, axis=1)"
   ]
  },
  {
   "cell_type": "code",
   "execution_count": 59,
   "id": "04a8b642",
   "metadata": {},
   "outputs": [
    {
     "data": {
      "text/plain": [
       "0.8852813852813853"
      ]
     },
     "execution_count": 59,
     "metadata": {},
     "output_type": "execute_result"
    }
   ],
   "source": [
    "test_df['y_logit'].mean()"
   ]
  },
  {
   "cell_type": "code",
   "execution_count": 60,
   "id": "f0504f25",
   "metadata": {},
   "outputs": [],
   "source": [
    "black = test_df[test_df['Black.or.African.American'] == 1]\n",
    "nonblack = test_df[test_df['Black.or.African.American'] == 0]"
   ]
  },
  {
   "cell_type": "code",
   "execution_count": 61,
   "id": "c2b7b644",
   "metadata": {},
   "outputs": [
    {
     "data": {
      "text/plain": [
       "0.8686131386861314"
      ]
     },
     "execution_count": 61,
     "metadata": {},
     "output_type": "execute_result"
    }
   ],
   "source": [
    "black['y_dec'].mean()"
   ]
  },
  {
   "cell_type": "code",
   "execution_count": 62,
   "id": "f58e7a68",
   "metadata": {},
   "outputs": [
    {
     "data": {
      "text/plain": [
       "0.8326661329063251"
      ]
     },
     "execution_count": 62,
     "metadata": {},
     "output_type": "execute_result"
    }
   ],
   "source": [
    "nonblack['y_dec'].mean()"
   ]
  },
  {
   "cell_type": "code",
   "execution_count": 63,
   "id": "1df05018",
   "metadata": {},
   "outputs": [
    {
     "data": {
      "text/plain": [
       "0.8832116788321168"
      ]
     },
     "execution_count": 63,
     "metadata": {},
     "output_type": "execute_result"
    }
   ],
   "source": [
    "black['y_logit'].mean()"
   ]
  },
  {
   "cell_type": "code",
   "execution_count": 64,
   "id": "20b28279",
   "metadata": {},
   "outputs": [
    {
     "data": {
      "text/plain": [
       "0.8855084067253803"
      ]
     },
     "execution_count": 64,
     "metadata": {},
     "output_type": "execute_result"
    }
   ],
   "source": [
    "nonblack['y_logit'].mean()"
   ]
  },
  {
   "cell_type": "code",
   "execution_count": 5,
   "id": "ec5c5650",
   "metadata": {},
   "outputs": [],
   "source": [
    "with open(fp) as f:\n",
    "    lines = [line.rstrip() for line in f]"
   ]
  },
  {
   "cell_type": "code",
   "execution_count": 7,
   "id": "565fb668",
   "metadata": {},
   "outputs": [],
   "source": [
    "ids = []\n",
    "for idx, line in enumerate(lines):\n",
    "    if '#########' in line:\n",
    "        ids.append(idx)"
   ]
  },
  {
   "cell_type": "code",
   "execution_count": 8,
   "id": "b64899c5",
   "metadata": {},
   "outputs": [
    {
     "data": {
      "text/plain": [
       "[84, 86, 88]"
      ]
     },
     "execution_count": 8,
     "metadata": {},
     "output_type": "execute_result"
    }
   ],
   "source": [
    "ids"
   ]
  },
  {
   "cell_type": "code",
   "execution_count": 6,
   "id": "ab763098",
   "metadata": {},
   "outputs": [
    {
     "data": {
      "text/plain": [
       "['Set parameter TokenServer to value \"hpc-licenses.hpcc.usc.edu\"',\n",
       " 'Set parameter TimeLimit to value 3600',\n",
       " 'Set parameter TokenServer to value \"hpc-licenses.hpcc.usc.edu\"',\n",
       " 'Set parameter TimeLimit to value 3600',\n",
       " 'Gurobi Optimizer version 9.5.1 build v9.5.1rc2 (linux64)',\n",
       " 'Thread count: 20 physical cores, 20 logical processors, using up to 20 threads',\n",
       " 'Optimize a model with 45006 rows, 36041 columns and 192046 nonzeros',\n",
       " 'Model fingerprint: 0xd2d39ecf',\n",
       " 'Variable types: 36009 continuous, 32 integer (32 binary)',\n",
       " 'Coefficient statistics:',\n",
       " '  Matrix range     [1e+00, 1e+00]',\n",
       " '  Objective range  [1e-02, 2e+00]',\n",
       " '  Bounds range     [1e+00, 1e+00]',\n",
       " '  RHS range        [1e+00, 1e+00]',\n",
       " 'Found heuristic solution: objective 96.2273727',\n",
       " 'Presolve removed 13838 rows and 12631 columns',\n",
       " 'Presolve time: 0.85s',\n",
       " 'Presolved: 31168 rows, 23410 columns, 155860 nonzeros',\n",
       " 'Variable types: 23382 continuous, 28 integer (28 binary)',\n",
       " '',\n",
       " 'Deterministic concurrent LP optimizer: primal and dual simplex',\n",
       " 'Showing first log only...',\n",
       " '',\n",
       " 'Concurrent spin time: 0.00s',\n",
       " '',\n",
       " 'Solved with dual simplex',\n",
       " '',\n",
       " 'Root relaxation: objective 2.801672e+03, 9472 iterations, 0.83 seconds (0.89 work units)',\n",
       " '',\n",
       " '    Nodes    |    Current Node    |     Objective Bounds      |     Work',\n",
       " ' Expl Unexpl |  Obj  Depth IntInf | Incumbent    BestBd   Gap | It/Node Time',\n",
       " '',\n",
       " '     0     0 2801.67177    0    2   96.22737 2801.67177  2812%     -    1s',\n",
       " 'H    0     0                    1863.4630120 2801.67177  50.3%     -    2s',\n",
       " '     0     0 2799.94711    0    2 1863.46301 2799.94711  50.3%     -    3s',\n",
       " '     0     0 2798.34521    0    2 1863.46301 2798.34521  50.2%     -    3s',\n",
       " '     0     0 2795.59423    0    2 1863.46301 2795.59423  50.0%     -    4s',\n",
       " '     0     0 2795.54284    0    2 1863.46301 2795.54284  50.0%     -    4s',\n",
       " '     0     0 2793.39484    0    2 1863.46301 2793.39484  49.9%     -    4s',\n",
       " '     0     0 2792.52338    0    2 1863.46301 2792.52338  49.9%     -    4s',\n",
       " 'H    0     0                    1869.1351939 2792.52338  49.4%     -    5s',\n",
       " '     0     0 2790.65397    0    2 1869.13519 2790.65397  49.3%     -    5s',\n",
       " '     0     0 2788.95930    0    2 1869.13519 2788.95930  49.2%     -    6s',\n",
       " '     0     0 2788.38027    0    2 1869.13519 2788.38027  49.2%     -    6s',\n",
       " '     0     0 2786.54189    0    2 1869.13519 2786.54189  49.1%     -    7s',\n",
       " '     0     0 2785.36189    0    2 1869.13519 2785.36189  49.0%     -    7s',\n",
       " '     0     0 2783.56396    0    3 1869.13519 2783.56396  48.9%     -    7s',\n",
       " '     0     0 2783.45253    0    2 1869.13519 2783.45253  48.9%     -    7s',\n",
       " '     0     0 2782.06271    0    2 1869.13519 2782.06271  48.8%     -    8s',\n",
       " '     0     0 2780.90953    0    3 1869.13519 2780.90953  48.8%     -    8s',\n",
       " '     0     0 2780.90917    0    3 1869.13519 2780.90917  48.8%     -    8s',\n",
       " '     0     0 2779.68597    0    2 1869.13519 2779.68597  48.7%     -    8s',\n",
       " '     0     0 2777.54073    0    3 1869.13519 2777.54073  48.6%     -    9s',\n",
       " '     0     0 2777.52097    0    2 1869.13519 2777.52097  48.6%     -    9s',\n",
       " '     0     0 2776.18368    0    3 1869.13519 2776.18368  48.5%     -    9s',\n",
       " '     0     0 2639.99592    0    2 1869.13519 2639.99592  41.2%     -   10s',\n",
       " '     0     0 2638.81514    0    3 1869.13519 2638.81514  41.2%     -   10s',\n",
       " '     0     0 2638.81514    0    3 1869.13519 2638.81514  41.2%     -   10s',\n",
       " '     0     0 2638.81514    0    2 1869.13519 2638.81514  41.2%     -   11s',\n",
       " '     0     0 2638.77108    0    2 1869.13519 2638.77108  41.2%     -   11s',\n",
       " '     0     0 2638.77108    0    2 1869.13519 2638.77108  41.2%     -   11s',\n",
       " '     0     2 2638.77108    0    2 1869.13519 2638.77108  41.2%     -   13s',\n",
       " '     1     2 2630.18813    1    7 1869.13519 2638.77108  41.2% 12040   18s',\n",
       " '     5     2 2576.06143    3    7 1869.13519 2592.66770  38.7%  5061   20s',\n",
       " '*   10     2               5    2504.7582583 2529.30178  0.98%  3425   24s',\n",
       " '    13     0     cutoff    7      2504.75826 2526.06708  0.85%  2703   25s',\n",
       " '',\n",
       " 'Cutting planes:',\n",
       " '  Gomory: 3',\n",
       " '  MIR: 64',\n",
       " '  Flow cover: 18',\n",
       " '  RLT: 40',\n",
       " '  Relax-and-lift: 43',\n",
       " '',\n",
       " 'Explored 15 nodes (49705 simplex iterations) in 25.01 seconds (37.06 work units)',\n",
       " 'Thread count was 20 (of 20 available processors)',\n",
       " '',\n",
       " 'Solution count 4: 2504.76 1869.14 1863.46 96.2274',\n",
       " '',\n",
       " 'Optimal solution found (tolerance 1.00e-04)',\n",
       " 'Best objective 2.504758258317e+03, best bound 2.504758258317e+03, gap 0.0000%',\n",
       " '',\n",
       " '',\n",
       " '',\n",
       " '#########node  1',\n",
       " 'VKORC1.A.A',\n",
       " '#########node  2',\n",
       " 'leaf 1',\n",
       " '#########node  3',\n",
       " 'leaf 0',\n",
       " '',\n",
       " '',\n",
       " 'Total Solving Time 28.328404903411865',\n",
       " 'obj value 2504.7582583170256',\n",
       " 'Policy Regret train (Sum) 520',\n",
       " 'Best Treatment Found train (%) 82.66666666666667',\n",
       " 'treatment classification acc train (%) 33.666666666666664',\n",
       " 'Policy Regret test (Sum) 227',\n",
       " 'Best Treatment Found test (%) 83.62193362193362',\n",
       " 'treatment classification acc test (%) 34.1991341991342']"
      ]
     },
     "execution_count": 6,
     "metadata": {},
     "output_type": "execute_result"
    }
   ],
   "source": [
    "lines"
   ]
  },
  {
   "cell_type": "code",
   "execution_count": null,
   "id": "a45296b7",
   "metadata": {},
   "outputs": [],
   "source": []
  }
 ],
 "metadata": {
  "kernelspec": {
   "display_name": "Python 3",
   "language": "python",
   "name": "python3"
  },
  "language_info": {
   "codemirror_mode": {
    "name": "ipython",
    "version": 3
   },
   "file_extension": ".py",
   "mimetype": "text/x-python",
   "name": "python",
   "nbconvert_exporter": "python",
   "pygments_lexer": "ipython3",
   "version": "3.8.8"
  }
 },
 "nbformat": 4,
 "nbformat_minor": 5
}
