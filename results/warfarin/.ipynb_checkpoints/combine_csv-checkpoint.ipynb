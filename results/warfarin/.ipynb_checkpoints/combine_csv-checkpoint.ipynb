{
 "cells": [
  {
   "cell_type": "code",
   "execution_count": 17,
   "id": "fa914d7e",
   "metadata": {},
   "outputs": [],
   "source": [
    "import pandas as pd\n",
    "import numpy as np\n",
    "import os\n",
    "import glob\n",
    "import matplotlib.pyplot as plt\n",
    "import seaborn as sns"
   ]
  },
  {
   "cell_type": "code",
   "execution_count": 9,
   "id": "8a5dbdaf",
   "metadata": {},
   "outputs": [],
   "source": [
    "cols = ['method', 'file_name', 'num_rows',\n",
    "                          'depth', 'branching_limit', 'time_limit',\n",
    "                          'status', 'obj_value', 'gap', 'solve_time',\n",
    "                          'regret_train', 'best_found_train', 'treatment_acc_train',\n",
    "                          'regret_test', 'best_found_test', 'treatment_acc_test',\n",
    "                          'prop_pred', 'ml']\n",
    "\n",
    "df = pd.DataFrame(columns=cols)\n",
    "\n",
    "for method in os.listdir():\n",
    "    if os.path.isdir(method) and method[0] != '.':\n",
    "        for seed in range(5):\n",
    "            for file in os.listdir(os.path.join(method, f'seed{seed+1}')):\n",
    "                if '.csv' in file:\n",
    "                    df_buffer = pd.read_csv(os.path.join(method, f'seed{seed+1}', file), header=None, names=cols)\n",
    "                    df = pd.concat([df, df_buffer], ignore_index=True)\n",
    "#             print(os.path.join(method, f'seed{seed+1}'))"
   ]
  },
  {
   "cell_type": "code",
   "execution_count": null,
   "id": "fade1163",
   "metadata": {},
   "outputs": [],
   "source": []
  },
  {
   "cell_type": "code",
   "execution_count": 15,
   "id": "25ff0dfc",
   "metadata": {},
   "outputs": [],
   "source": [
    "\n",
    "subset = df[(df['depth'].isin([2])) & (df['method'] == 'Robust')]"
   ]
  },
  {
   "cell_type": "code",
   "execution_count": 23,
   "id": "34910aed",
   "metadata": {},
   "outputs": [],
   "source": [
    "df['exp_type'] = df['file_name'].apply(lambda x: x.split('_')[-2])"
   ]
  },
  {
   "cell_type": "code",
   "execution_count": 22,
   "id": "1c92c7a0",
   "metadata": {},
   "outputs": [
    {
     "data": {
      "text/plain": [
       "1      r0.11\n",
       "2      r0.06\n",
       "9       0.33\n",
       "14      0.33\n",
       "15     r0.06\n",
       "       ...  \n",
       "210    r0.06\n",
       "211     0.33\n",
       "212    r0.11\n",
       "217    r0.06\n",
       "222     0.33\n",
       "Name: exp_type, Length: 75, dtype: object"
      ]
     },
     "execution_count": 22,
     "metadata": {},
     "output_type": "execute_result"
    }
   ],
   "source": [
    "subset['exp_type'] "
   ]
  },
  {
   "cell_type": "code",
   "execution_count": 26,
   "id": "664e6a0b",
   "metadata": {},
   "outputs": [],
   "source": [
    "subset = df[df['depth'] == 2]"
   ]
  },
  {
   "cell_type": "code",
   "execution_count": 40,
   "id": "331d28c7",
   "metadata": {},
   "outputs": [
    {
     "data": {
      "text/html": [
       "<div>\n",
       "<style scoped>\n",
       "    .dataframe tbody tr th:only-of-type {\n",
       "        vertical-align: middle;\n",
       "    }\n",
       "\n",
       "    .dataframe tbody tr th {\n",
       "        vertical-align: top;\n",
       "    }\n",
       "\n",
       "    .dataframe thead th {\n",
       "        text-align: right;\n",
       "    }\n",
       "</style>\n",
       "<table border=\"1\" class=\"dataframe\">\n",
       "  <thead>\n",
       "    <tr style=\"text-align: right;\">\n",
       "      <th></th>\n",
       "      <th>method</th>\n",
       "      <th>file_name</th>\n",
       "      <th>num_rows</th>\n",
       "      <th>depth</th>\n",
       "      <th>branching_limit</th>\n",
       "      <th>time_limit</th>\n",
       "      <th>status</th>\n",
       "      <th>obj_value</th>\n",
       "      <th>gap</th>\n",
       "      <th>solve_time</th>\n",
       "      <th>regret_train</th>\n",
       "      <th>best_found_train</th>\n",
       "      <th>treatment_acc_train</th>\n",
       "      <th>regret_test</th>\n",
       "      <th>best_found_test</th>\n",
       "      <th>treatment_acc_test</th>\n",
       "      <th>prop_pred</th>\n",
       "      <th>ml</th>\n",
       "      <th>exp_type</th>\n",
       "    </tr>\n",
       "  </thead>\n",
       "  <tbody>\n",
       "    <tr>\n",
       "      <th>197</th>\n",
       "      <td>Robust</td>\n",
       "      <td>data_train_enc_r0.11_2</td>\n",
       "      <td>3000</td>\n",
       "      <td>2</td>\n",
       "      <td>100.0</td>\n",
       "      <td>3600</td>\n",
       "      <td>9</td>\n",
       "      <td>2822.329704</td>\n",
       "      <td>4.690092</td>\n",
       "      <td>3609.576240</td>\n",
       "      <td>953</td>\n",
       "      <td>68.233333</td>\n",
       "      <td>66.400000</td>\n",
       "      <td>433</td>\n",
       "      <td>68.759019</td>\n",
       "      <td>66.594517</td>\n",
       "      <td>tree</td>\n",
       "      <td>ml</td>\n",
       "      <td>r0.11</td>\n",
       "    </tr>\n",
       "    <tr>\n",
       "      <th>212</th>\n",
       "      <td>Robust</td>\n",
       "      <td>data_train_enc_r0.11_5</td>\n",
       "      <td>3000</td>\n",
       "      <td>2</td>\n",
       "      <td>100.0</td>\n",
       "      <td>3600</td>\n",
       "      <td>9</td>\n",
       "      <td>2818.761227</td>\n",
       "      <td>7.389439</td>\n",
       "      <td>3606.825844</td>\n",
       "      <td>662</td>\n",
       "      <td>77.933333</td>\n",
       "      <td>77.466667</td>\n",
       "      <td>312</td>\n",
       "      <td>77.489177</td>\n",
       "      <td>77.417027</td>\n",
       "      <td>tree</td>\n",
       "      <td>ml</td>\n",
       "      <td>r0.11</td>\n",
       "    </tr>\n",
       "  </tbody>\n",
       "</table>\n",
       "</div>"
      ],
      "text/plain": [
       "     method               file_name num_rows depth  branching_limit  \\\n",
       "197  Robust  data_train_enc_r0.11_2     3000     2            100.0   \n",
       "212  Robust  data_train_enc_r0.11_5     3000     2            100.0   \n",
       "\n",
       "    time_limit status    obj_value       gap   solve_time regret_train  \\\n",
       "197       3600      9  2822.329704  4.690092  3609.576240          953   \n",
       "212       3600      9  2818.761227  7.389439  3606.825844          662   \n",
       "\n",
       "     best_found_train  treatment_acc_train regret_test  best_found_test  \\\n",
       "197         68.233333            66.400000         433        68.759019   \n",
       "212         77.933333            77.466667         312        77.489177   \n",
       "\n",
       "     treatment_acc_test prop_pred  ml exp_type  \n",
       "197           66.594517      tree  ml    r0.11  \n",
       "212           77.417027      tree  ml    r0.11  "
      ]
     },
     "execution_count": 40,
     "metadata": {},
     "output_type": "execute_result"
    }
   ],
   "source": [
    "subset[subset['gap'] > 0]"
   ]
  },
  {
   "cell_type": "code",
   "execution_count": 38,
   "id": "8f1999ef",
   "metadata": {},
   "outputs": [
    {
     "data": {
      "image/png": "[encoded data removed]",
      "text/plain": [
       "<Figure size 720x432 with 1 Axes>"
      ]
     },
     "metadata": {
      "needs_background": "light"
     },
     "output_type": "display_data"
    }
   ],
   "source": [
    "plt.figure(figsize=(10, 6))\n",
    "plt.rcParams.update({'font.size': 18})\n",
    "sns.boxplot(data=subset, x=\"exp_type\", hue=\"method\", y=\"best_found_test\",\n",
    "           order=['r0.06', 'r0.11', '0.33'], hue_order=['IPW', 'Direct', 'Robust'])\n",
    "plt.xlabel('Experiment type')\n",
    "plt.ylabel('OOSP')\n",
    "plt.savefig('figures/OPT_prob_d2.pdf')\n",
    "plt.show()"
   ]
  },
  {
   "cell_type": "code",
   "execution_count": null,
   "id": "4098e930",
   "metadata": {},
   "outputs": [],
   "source": []
  }
 ],
 "metadata": {
  "kernelspec": {
   "display_name": "Python 3",
   "language": "python",
   "name": "python3"
  },
  "language_info": {
   "codemirror_mode": {
    "name": "ipython",
    "version": 3
   },
   "file_extension": ".py",
   "mimetype": "text/x-python",
   "name": "python",
   "nbconvert_exporter": "python",
   "pygments_lexer": "ipython3",
   "version": "3.8.8"
  }
 },
 "nbformat": 4,
 "nbformat_minor": 5
}
