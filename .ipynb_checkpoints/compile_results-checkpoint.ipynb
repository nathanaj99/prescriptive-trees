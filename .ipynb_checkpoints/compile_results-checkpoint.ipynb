{
 "cells": [
  {
   "cell_type": "code",
   "execution_count": 88,
   "id": "3f7f1aa4",
   "metadata": {},
   "outputs": [],
   "source": [
    "import os\n",
    "import pandas as pd\n",
    "import numpy as np\n",
    "import seaborn as sns\n",
    "import matplotlib.pyplot as plt"
   ]
  },
  {
   "cell_type": "code",
   "execution_count": 110,
   "id": "6434640b",
   "metadata": {},
   "outputs": [],
   "source": [
    "# dataset = 'Robust'\n",
    "cols = ['method', 'dataset', 'nrow', 'depth', '?', 'time_limit', 'solve_code', 'obj_value', 'gap',\n",
    "       'solving_time', 'regret_train', 'best_found_train', 'treatment_acc_train', 'regret_test', 'best_found_test',\n",
    "       'treatment_acc_train', 'infer_prop', 'infer_yhat', 'seed']\n",
    "df = pd.DataFrame(columns=cols)"
   ]
  },
  {
   "cell_type": "code",
   "execution_count": 111,
   "id": "abf58775",
   "metadata": {},
   "outputs": [
    {
     "name": "stdout",
     "output_type": "stream",
     "text": [
      "Robust\n",
      "IPW\n",
      "DM\n"
     ]
    }
   ],
   "source": [
    "probs = ['0.33', 'r0.06', 'r0.11']\n",
    "for d in os.listdir('Results_Warfarin_prob'):\n",
    "    print(d)\n",
    "    for seed in os.listdir(os.path.join('Results_Warfarin_prob', d)):\n",
    "        for i in os.listdir(os.path.join('Results_Warfarin_prob', d, seed)):\n",
    "            if '.csv' in i:\n",
    "                df_buffer = pd.read_csv(os.path.join('Results_Warfarin_prob', d, seed, i), header=None)\n",
    "#                 print(df_buffer.iloc[0].tolist())\n",
    "                if d == 'IPW':\n",
    "                    df.loc[len(df)] = df_buffer.iloc[0].tolist() + [np.nan, int(seed[-1])]\n",
    "                else:\n",
    "                    df.loc[len(df)] = df_buffer.iloc[0].tolist() + [int(seed[-1])]"
   ]
  },
  {
   "cell_type": "code",
   "execution_count": 112,
   "id": "9651a0b5",
   "metadata": {},
   "outputs": [],
   "source": [
    "df['exp_prob'] = df['dataset'].apply(lambda x: x.split('_')[-2])"
   ]
  },
  {
   "cell_type": "code",
   "execution_count": 113,
   "id": "0cdc7784",
   "metadata": {},
   "outputs": [],
   "source": [
    "df['best_found_test'] = df['best_found_test']/100"
   ]
  },
  {
   "cell_type": "code",
   "execution_count": 114,
   "id": "6ebe612b",
   "metadata": {
    "scrolled": true
   },
   "outputs": [
    {
     "data": {
      "text/html": [
       "<div>\n",
       "<style scoped>\n",
       "    .dataframe tbody tr th:only-of-type {\n",
       "        vertical-align: middle;\n",
       "    }\n",
       "\n",
       "    .dataframe tbody tr th {\n",
       "        vertical-align: top;\n",
       "    }\n",
       "\n",
       "    .dataframe thead th {\n",
       "        text-align: right;\n",
       "    }\n",
       "</style>\n",
       "<table border=\"1\" class=\"dataframe\">\n",
       "  <thead>\n",
       "    <tr style=\"text-align: right;\">\n",
       "      <th></th>\n",
       "      <th></th>\n",
       "      <th>best_found_test</th>\n",
       "      <th>gap</th>\n",
       "    </tr>\n",
       "    <tr>\n",
       "      <th>method</th>\n",
       "      <th>exp_prob</th>\n",
       "      <th></th>\n",
       "      <th></th>\n",
       "    </tr>\n",
       "  </thead>\n",
       "  <tbody>\n",
       "    <tr>\n",
       "      <th rowspan=\"3\" valign=\"top\">Direct</th>\n",
       "      <th>0.33</th>\n",
       "      <td>0.844964</td>\n",
       "      <td>2.819649</td>\n",
       "    </tr>\n",
       "    <tr>\n",
       "      <th>r0.06</th>\n",
       "      <td>0.739885</td>\n",
       "      <td>2.056485</td>\n",
       "    </tr>\n",
       "    <tr>\n",
       "      <th>r0.11</th>\n",
       "      <td>0.632756</td>\n",
       "      <td>1.674400</td>\n",
       "    </tr>\n",
       "    <tr>\n",
       "      <th rowspan=\"3\" valign=\"top\">IPW</th>\n",
       "      <th>0.33</th>\n",
       "      <td>0.849766</td>\n",
       "      <td>5.971130</td>\n",
       "    </tr>\n",
       "    <tr>\n",
       "      <th>r0.06</th>\n",
       "      <td>0.653232</td>\n",
       "      <td>12.348215</td>\n",
       "    </tr>\n",
       "    <tr>\n",
       "      <th>r0.11</th>\n",
       "      <td>0.651299</td>\n",
       "      <td>11.614931</td>\n",
       "    </tr>\n",
       "    <tr>\n",
       "      <th rowspan=\"3\" valign=\"top\">Robust</th>\n",
       "      <th>0.33</th>\n",
       "      <td>0.836436</td>\n",
       "      <td>7.410711</td>\n",
       "    </tr>\n",
       "    <tr>\n",
       "      <th>r0.06</th>\n",
       "      <td>0.733882</td>\n",
       "      <td>5.975859</td>\n",
       "    </tr>\n",
       "    <tr>\n",
       "      <th>r0.11</th>\n",
       "      <td>0.636277</td>\n",
       "      <td>5.438165</td>\n",
       "    </tr>\n",
       "  </tbody>\n",
       "</table>\n",
       "</div>"
      ],
      "text/plain": [
       "                 best_found_test        gap\n",
       "method exp_prob                            \n",
       "Direct 0.33             0.844964   2.819649\n",
       "       r0.06            0.739885   2.056485\n",
       "       r0.11            0.632756   1.674400\n",
       "IPW    0.33             0.849766   5.971130\n",
       "       r0.06            0.653232  12.348215\n",
       "       r0.11            0.651299  11.614931\n",
       "Robust 0.33             0.836436   7.410711\n",
       "       r0.06            0.733882   5.975859\n",
       "       r0.11            0.636277   5.438165"
      ]
     },
     "execution_count": 114,
     "metadata": {},
     "output_type": "execute_result"
    }
   ],
   "source": [
    "df[df['depth'].isin([2, 3])][['method', 'exp_prob', \n",
    "                              'best_found_test', 'regret_test', 'gap']].groupby(['method', 'exp_prob']).agg('mean')"
   ]
  },
  {
   "cell_type": "code",
   "execution_count": 42,
   "id": "d980b025",
   "metadata": {
    "scrolled": true
   },
   "outputs": [
    {
     "data": {
      "text/plain": [
       "<matplotlib.axes._subplots.AxesSubplot at 0x7fcc50d950d0>"
      ]
     },
     "execution_count": 42,
     "metadata": {},
     "output_type": "execute_result"
    },
    {
     "data": {
      "image/png": "[encoded data removed]",
      "text/plain": [
       "<Figure size 432x288 with 1 Axes>"
      ]
     },
     "metadata": {
      "needs_background": "light"
     },
     "output_type": "display_data"
    }
   ],
   "source": [
    "sns.boxplot(data=df[df['depth'].isin([2, 3])], x=\"exp_prob\", y=\"best_found_test\", hue='method')"
   ]
  },
  {
   "cell_type": "code",
   "execution_count": 132,
   "id": "66bf077b",
   "metadata": {},
   "outputs": [],
   "source": [
    "all_df = pd.DataFrame(columns=['method', 'exp_prob', 'best_found_test', 'depth'])"
   ]
  },
  {
   "cell_type": "code",
   "execution_count": 133,
   "id": "5f33f240",
   "metadata": {},
   "outputs": [],
   "source": [
    "other_methods = 'other_methods/results'"
   ]
  },
  {
   "cell_type": "code",
   "execution_count": 134,
   "id": "0f91c5bb",
   "metadata": {},
   "outputs": [],
   "source": [
    "policytree = pd.read_csv(os.path.join(other_methods, 'policytree', 'warfarin', 'raw_proba.csv'))\n",
    "policytree = policytree.rename(columns={'random': '0.33'})"
   ]
  },
  {
   "cell_type": "code",
   "execution_count": 135,
   "id": "c22f4f1f",
   "metadata": {},
   "outputs": [],
   "source": [
    "for i in policytree.columns:\n",
    "    df_buffer = pd.DataFrame({'method': ['policytree']*len(policytree), 'exp_prob': [i]*len(policytree),\n",
    "                             'best_found_test': policytree[i], 'depth': [2]*len(policytree)})\n",
    "    all_df = pd.concat([all_df, df_buffer], ignore_index=True)"
   ]
  },
  {
   "cell_type": "code",
   "execution_count": 136,
   "id": "9fc84410",
   "metadata": {},
   "outputs": [],
   "source": [
    "cf = pd.read_csv(os.path.join(other_methods, 'CF', 'warfarin', 'cf_baseline_yhat_what_raw.csv'))\n",
    "cf = cf.rename(columns={'random': '0.33'})"
   ]
  },
  {
   "cell_type": "code",
   "execution_count": 137,
   "id": "c5008eb0",
   "metadata": {},
   "outputs": [],
   "source": [
    "for i in cf.columns:\n",
    "    df_buffer = pd.DataFrame({'method': ['CF']*len(cf), 'exp_prob': [i]*len(cf),\n",
    "                             'best_found_test': cf[i], 'depth': [np.nan]*len(cf)})\n",
    "    all_df = pd.concat([all_df, df_buffer], ignore_index=True)"
   ]
  },
  {
   "cell_type": "code",
   "execution_count": 140,
   "id": "2e7e817f",
   "metadata": {},
   "outputs": [],
   "source": [
    "ct = pd.read_csv(os.path.join(other_methods, 'CF', 'warfarin', 'ct_baseline_yhat_what_raw.csv'))\n",
    "ct = cf.rename(columns={'random': '0.33'})"
   ]
  },
  {
   "cell_type": "code",
   "execution_count": 141,
   "id": "104968f9",
   "metadata": {},
   "outputs": [],
   "source": [
    "for i in ct.columns:\n",
    "    df_buffer = pd.DataFrame({'method': ['CT']*len(ct), 'exp_prob': [i]*len(ct),\n",
    "                             'best_found_test': ct[i], 'depth': [np.nan]*len(ct)})\n",
    "    all_df = pd.concat([all_df, df_buffer], ignore_index=True)"
   ]
  },
  {
   "cell_type": "code",
   "execution_count": 142,
   "id": "47b3cf53",
   "metadata": {},
   "outputs": [],
   "source": [
    "rc = pd.read_csv(os.path.join(other_methods, 'RC', 'warfarin', 'raw.csv'))"
   ]
  },
  {
   "cell_type": "code",
   "execution_count": 143,
   "id": "d3666856",
   "metadata": {},
   "outputs": [],
   "source": [
    "rc = rc.drop(columns=['seed', 'dataset']).rename(columns={'randomization': 'exp_prob',\n",
    "                                                         'oopt': 'best_found_test'})"
   ]
  },
  {
   "cell_type": "code",
   "execution_count": 144,
   "id": "75c55b6a",
   "metadata": {},
   "outputs": [],
   "source": [
    "all_df = pd.concat([all_df, rc], ignore_index=True)"
   ]
  },
  {
   "cell_type": "code",
   "execution_count": 145,
   "id": "328e4661",
   "metadata": {},
   "outputs": [],
   "source": [
    "all_df = pd.concat([all_df, df[df['depth'] == 2][['method', 'exp_prob', 'best_found_test', 'depth']]], ignore_index=True)"
   ]
  },
  {
   "cell_type": "code",
   "execution_count": 146,
   "id": "94551e7c",
   "metadata": {},
   "outputs": [
    {
     "data": {
      "image/png": "[encoded data removed]",
      "text/plain": [
       "<Figure size 864x432 with 1 Axes>"
      ]
     },
     "metadata": {
      "needs_background": "light"
     },
     "output_type": "display_data"
    },
    {
     "data": {
      "image/png": "[encoded data removed]",
      "text/plain": [
       "<Figure size 864x432 with 1 Axes>"
      ]
     },
     "metadata": {
      "needs_background": "light"
     },
     "output_type": "display_data"
    },
    {
     "data": {
      "image/png": "[encoded data removed]",
      "text/plain": [
       "<Figure size 864x432 with 1 Axes>"
      ]
     },
     "metadata": {
      "needs_background": "light"
     },
     "output_type": "display_data"
    }
   ],
   "source": [
    "for prob in all_df['exp_prob'].unique():\n",
    "    plt.figure(figsize=(12, 6))\n",
    "    subset = all_df[all_df['exp_prob'] == prob]\n",
    "    sns.boxplot(data=subset, x='method', y='best_found_test')\n",
    "    plt.show()"
   ]
  },
  {
   "cell_type": "code",
   "execution_count": 83,
   "id": "07880169",
   "metadata": {},
   "outputs": [
    {
     "data": {
      "text/html": [
       "<div>\n",
       "<style scoped>\n",
       "    .dataframe tbody tr th:only-of-type {\n",
       "        vertical-align: middle;\n",
       "    }\n",
       "\n",
       "    .dataframe tbody tr th {\n",
       "        vertical-align: top;\n",
       "    }\n",
       "\n",
       "    .dataframe thead th {\n",
       "        text-align: right;\n",
       "    }\n",
       "</style>\n",
       "<table border=\"1\" class=\"dataframe\">\n",
       "  <thead>\n",
       "    <tr style=\"text-align: right;\">\n",
       "      <th></th>\n",
       "      <th>method</th>\n",
       "      <th>exp_prob</th>\n",
       "      <th>best_found_test</th>\n",
       "      <th>depth</th>\n",
       "    </tr>\n",
       "  </thead>\n",
       "  <tbody>\n",
       "    <tr>\n",
       "      <th>0</th>\n",
       "      <td>policytree</td>\n",
       "      <td>0.33</td>\n",
       "      <td>0.837662</td>\n",
       "      <td>2</td>\n",
       "    </tr>\n",
       "    <tr>\n",
       "      <th>1</th>\n",
       "      <td>policytree</td>\n",
       "      <td>0.33</td>\n",
       "      <td>0.839105</td>\n",
       "      <td>2</td>\n",
       "    </tr>\n",
       "    <tr>\n",
       "      <th>2</th>\n",
       "      <td>policytree</td>\n",
       "      <td>0.33</td>\n",
       "      <td>0.844156</td>\n",
       "      <td>2</td>\n",
       "    </tr>\n",
       "    <tr>\n",
       "      <th>3</th>\n",
       "      <td>policytree</td>\n",
       "      <td>0.33</td>\n",
       "      <td>0.826118</td>\n",
       "      <td>2</td>\n",
       "    </tr>\n",
       "    <tr>\n",
       "      <th>4</th>\n",
       "      <td>policytree</td>\n",
       "      <td>0.33</td>\n",
       "      <td>0.855700</td>\n",
       "      <td>2</td>\n",
       "    </tr>\n",
       "    <tr>\n",
       "      <th>...</th>\n",
       "      <td>...</td>\n",
       "      <td>...</td>\n",
       "      <td>...</td>\n",
       "      <td>...</td>\n",
       "    </tr>\n",
       "    <tr>\n",
       "      <th>595</th>\n",
       "      <td>rf_balanced</td>\n",
       "      <td>r0.06</td>\n",
       "      <td>0.721501</td>\n",
       "      <td>NaN</td>\n",
       "    </tr>\n",
       "    <tr>\n",
       "      <th>596</th>\n",
       "      <td>rf_balanced</td>\n",
       "      <td>r0.06</td>\n",
       "      <td>0.857143</td>\n",
       "      <td>NaN</td>\n",
       "    </tr>\n",
       "    <tr>\n",
       "      <th>597</th>\n",
       "      <td>rf_balanced</td>\n",
       "      <td>r0.06</td>\n",
       "      <td>0.743867</td>\n",
       "      <td>NaN</td>\n",
       "    </tr>\n",
       "    <tr>\n",
       "      <th>598</th>\n",
       "      <td>rf_balanced</td>\n",
       "      <td>r0.06</td>\n",
       "      <td>0.842713</td>\n",
       "      <td>NaN</td>\n",
       "    </tr>\n",
       "    <tr>\n",
       "      <th>599</th>\n",
       "      <td>rf_balanced</td>\n",
       "      <td>r0.06</td>\n",
       "      <td>0.853535</td>\n",
       "      <td>NaN</td>\n",
       "    </tr>\n",
       "  </tbody>\n",
       "</table>\n",
       "<p>600 rows × 4 columns</p>\n",
       "</div>"
      ],
      "text/plain": [
       "          method exp_prob  best_found_test depth\n",
       "0     policytree     0.33         0.837662     2\n",
       "1     policytree     0.33         0.839105     2\n",
       "2     policytree     0.33         0.844156     2\n",
       "3     policytree     0.33         0.826118     2\n",
       "4     policytree     0.33         0.855700     2\n",
       "..           ...      ...              ...   ...\n",
       "595  rf_balanced    r0.06         0.721501   NaN\n",
       "596  rf_balanced    r0.06         0.857143   NaN\n",
       "597  rf_balanced    r0.06         0.743867   NaN\n",
       "598  rf_balanced    r0.06         0.842713   NaN\n",
       "599  rf_balanced    r0.06         0.853535   NaN\n",
       "\n",
       "[600 rows x 4 columns]"
      ]
     },
     "execution_count": 83,
     "metadata": {},
     "output_type": "execute_result"
    }
   ],
   "source": [
    "sns.boxplot(data=all_df, x=\"exp_prob\", y=\"best_found_test\", hue='method')"
   ]
  },
  {
   "cell_type": "code",
   "execution_count": null,
   "id": "e875b2e7",
   "metadata": {},
   "outputs": [],
   "source": []
  }
 ],
 "metadata": {
  "kernelspec": {
   "display_name": "Python 3",
   "language": "python",
   "name": "python3"
  },
  "language_info": {
   "codemirror_mode": {
    "name": "ipython",
    "version": 3
   },
   "file_extension": ".py",
   "mimetype": "text/x-python",
   "name": "python",
   "nbconvert_exporter": "python",
   "pygments_lexer": "ipython3",
   "version": "3.8.8"
  }
 },
 "nbformat": 4,
 "nbformat_minor": 5
}
