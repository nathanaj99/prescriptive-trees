{
 "cells": [
  {
   "cell_type": "code",
   "execution_count": 1,
   "id": "3897af65",
   "metadata": {},
   "outputs": [],
   "source": [
    "import numpy as np\n",
    "import pandas as pd\n",
    "import matplotlib.pyplot as plt\n",
    "from sklearn.linear_model import LogisticRegression, LinearRegression, Lasso\n",
    "from sklearn.tree import DecisionTreeClassifier\n",
    "from sklearn.neighbors import KNeighborsClassifier\n",
    "from sklearn.metrics import accuracy_score, confusion_matrix, precision_score, recall_score, r2_score\n",
    "from sklearn.ensemble import RandomForestClassifier\n",
    "from sklearn.model_selection import train_test_split\n",
    "from sklearn.model_selection import RandomizedSearchCV\n",
    "from sklearn.preprocessing import MinMaxScaler\n",
    "import seaborn as sns\n",
    "import scipy.stats\n",
    "import time\n",
    "import os"
   ]
  },
  {
   "cell_type": "markdown",
   "id": "b177258d",
   "metadata": {},
   "source": [
    "## TO DO: need to handle the case where r0.06 and r0.11 (SMOTE in Sherlock)"
   ]
  },
  {
   "cell_type": "markdown",
   "id": "c315ed18",
   "metadata": {},
   "source": [
    "## Define helper functions"
   ]
  },
  {
   "cell_type": "code",
   "execution_count": 31,
   "id": "d719f9b3",
   "metadata": {},
   "outputs": [],
   "source": [
    "def run(df, df_test, model):\n",
    "    t_unique = df['t'].unique()\n",
    "\n",
    "    for t in t_unique:\n",
    "        buffer = df[df['t'] == t]\n",
    "        X = buffer.iloc[:, :2]\n",
    "        y = buffer['y']\n",
    "\n",
    "        lr = model.fit(X, y)\n",
    "\n",
    "        X_test = df_test.iloc[:, :2]\n",
    "        df_test['pred' + str(t)] = lr.predict(X_test)\n",
    "\n",
    "    ## EVALUATE PERFORMANCE\n",
    "    def find_highest_y(row):\n",
    "        if row['pred1'] > row['pred0']:\n",
    "            return 1\n",
    "        else:\n",
    "            return 0\n",
    "\n",
    "    def t_opt(row):\n",
    "        if row['y1'] > row['y0']:\n",
    "            return 1\n",
    "        else:\n",
    "            return 0\n",
    "\n",
    "    df_test['t_opt'] = df_test.apply(lambda row: t_opt(row), axis=1)    \n",
    "    df_test['t_pred'] = df_test.apply(lambda row: find_highest_y(row), axis=1)\n",
    "    hi = df_test['t_opt'] == df_test['t_pred']\n",
    "#     print(df_test[df_test['t_opt'] != df_test['t_pred']])\n",
    "#     print(hi.value_counts())\n",
    "    return (df_test['t_opt'] == df_test['t_pred']).sum()/len(df_test)"
   ]
  },
  {
   "cell_type": "code",
   "execution_count": 20,
   "id": "1638d65d",
   "metadata": {},
   "outputs": [],
   "source": [
    "def run(df, df_test, model):\n",
    "    t_unique = df['t'].unique()\n",
    "    # for 0.1, y=1 will be minority class and for 0.85, y=0 will be minority class.\n",
    "    # perform smote to increase the accuracy?\n",
    "    for t in t_unique:\n",
    "#         print(i)\n",
    "        buffer = df[df['t'] == t]\n",
    "        X = buffer.iloc[:, :17]\n",
    "        y = buffer['y']\n",
    "        y_values = y.value_counts()\n",
    "\n",
    "#         if y_values[1] > 5 and y_values[0] > 5:\n",
    "#             smote = SMOTE(sampling_strategy=1.0, k_neighbors=5)\n",
    "#         elif y_values[0] <= 5:\n",
    "#             smote = SMOTE(sampling_strategy=1.0, k_neighbors=y_values[0] - 1)\n",
    "#         elif y_values[1] <= 5:\n",
    "#             smote = SMOTE(sampling_strategy=1.0, k_neighbors=y_values[1]-1)\n",
    "#         X, y = smote.fit_resample(X, y)\n",
    "#         print(y.value_counts())\n",
    "\n",
    "        lr = model.fit(X, y)\n",
    "        X_test = df_test.iloc[:, :17]\n",
    "        df_test['pred' + str(t)] = [i[1] for i in lr.predict_proba(X_test)]\n",
    "\n",
    "    ## EVALUATE PERFORMANCE\n",
    "    def find_highest_y(row):\n",
    "        if row['pred1'] > row['pred0'] and row['pred1'] > row['pred2']:\n",
    "            return 1\n",
    "        elif row['pred2'] > row['pred0'] and row['pred2'] > row['pred1']:\n",
    "            return 2\n",
    "        else:\n",
    "            return 0\n",
    "\n",
    "    def t_opt(row):\n",
    "        if row['y1'] == 1:\n",
    "            return 1\n",
    "        elif row['y2'] == 1:\n",
    "            return 2\n",
    "        else:\n",
    "            return 0\n",
    "\n",
    "    df_test['t_opt'] = df_test.apply(lambda row: t_opt(row), axis=1)    \n",
    "    df_test['t_pred'] = df_test.apply(lambda row: find_highest_y(row), axis=1)\n",
    "    return (df_test['t_opt'] == df_test['t_pred']).sum()/len(df_test)"
   ]
  },
  {
   "cell_type": "code",
   "execution_count": 27,
   "id": "a5374f34",
   "metadata": {},
   "outputs": [],
   "source": [
    "def driver(model):\n",
    "#     probs = ['0.33', 'r0.11', 'r0.06']\n",
    "    probs = ['0.33']\n",
    "    seeds = [1, 2, 3, 4, 5]\n",
    "    datasets = [1, 2, 3, 4, 5]\n",
    "    opt_policy_dic = {}\n",
    "    for prob in probs:\n",
    "        buffer = []\n",
    "        for dataset in datasets:\n",
    "            for seed in seeds:\n",
    "#                 print(\"------ SEED --------\" + str(seed))\n",
    "#                 print(\"------ DATASET --------\" + str(dataset))\n",
    "#                 print(\"PROB\" + str(prob))\n",
    "                file_name = 'data_train_' + str(prob) + '_' + str(dataset) + '.csv'\n",
    "                file_name_test = 'data_test_' + str(prob) + '_' + str(dataset) + '.csv'\n",
    "                # ----- CHANGE THE FILE PATH -----\n",
    "                file_path = '../../data/Warfarin_v2/seed' + str(seed) + '/'\n",
    "                df = pd.read_csv(file_path + file_name)\n",
    "                df_test = pd.read_csv(file_path + file_name_test)\n",
    "                \n",
    "                buffer.append(run(df, df_test, model))\n",
    "        opt_policy_dic[prob] = buffer\n",
    "    return opt_policy_dic"
   ]
  },
  {
   "cell_type": "markdown",
   "id": "da4809c9",
   "metadata": {},
   "source": [
    "## LRRF (best models we have)"
   ]
  },
  {
   "cell_type": "code",
   "execution_count": 11,
   "id": "66fe1140",
   "metadata": {},
   "outputs": [],
   "source": [
    "probs = ['0.33', 'r0.06', 'r0.11']\n",
    "seeds = [1, 2, 3, 4, 5]\n",
    "datasets = [1, 2, 3, 4, 5]\n",
    "opt_policy_dic = {}\n",
    "for prob in probs:\n",
    "    buffer = []\n",
    "    for dataset in datasets:\n",
    "        for seed in seeds:\n",
    "#                 print(\"------ SEED --------\" + str(seed))\n",
    "#                 print(\"------ DATASET --------\" + str(dataset))\n",
    "#                 print(\"PROB\" + str(prob))\n",
    "            file_name = 'data_train_' + str(prob) + '_' + str(dataset) + '.csv'\n",
    "            file_name_test = 'data_test_' + str(prob) + '_' + str(dataset) + '.csv'\n",
    "            # ----- CHANGE THE FILE PATH -----\n",
    "            file_path = '../../data/Warfarin_v2/rf_balance_proba_white/seed' + str(seed) + '/'\n",
    "            df = pd.read_csv(file_path + file_name)\n",
    "            df_test = pd.read_csv(file_path + file_name_test)\n",
    "            def find_highest_y(row):\n",
    "                if row['lrrf1'] > row['lrrf0'] and row['lrrf1'] > row['lrrf2']:\n",
    "                    return 1\n",
    "                elif row['lrrf2'] > row['lrrf0'] and row['lrrf2'] > row['lrrf1']:\n",
    "                    return 2\n",
    "                else:\n",
    "                    return 0\n",
    "\n",
    "            def t_opt(row):\n",
    "                if row['y1'] == 1:\n",
    "                    return 1\n",
    "                elif row['y2'] == 1:\n",
    "                    return 2\n",
    "                else:\n",
    "                    return 0\n",
    "\n",
    "            df_test['t_opt'] = df_test.apply(lambda row: t_opt(row), axis=1)    \n",
    "            df_test['t_pred'] = df_test.apply(lambda row: find_highest_y(row), axis=1)\n",
    "            buffer.append((df_test['t_opt'] == df_test['t_pred']).sum()/len(df_test))\n",
    "    opt_policy_dic[prob] = buffer"
   ]
  },
  {
   "cell_type": "code",
   "execution_count": 15,
   "id": "ce363795",
   "metadata": {},
   "outputs": [],
   "source": [
    "lrrf = pd.DataFrame(opt_policy_dic)"
   ]
  },
  {
   "cell_type": "code",
   "execution_count": 16,
   "id": "eb88ef93",
   "metadata": {},
   "outputs": [],
   "source": [
    "lrrf.to_csv('../results/RC/warfarin/lrrf.csv', index=False)"
   ]
  },
  {
   "cell_type": "markdown",
   "id": "44374428",
   "metadata": {},
   "source": [
    "### LogisticRegression"
   ]
  },
  {
   "cell_type": "code",
   "execution_count": 26,
   "id": "2aee5111",
   "metadata": {},
   "outputs": [
    {
     "name": "stdout",
     "output_type": "stream",
     "text": [
      "------ SEED --------1\n",
      "------ DATASET --------1\n",
      "PROB0.33\n",
      "------ SEED --------2\n",
      "------ DATASET --------1\n",
      "PROB0.33\n",
      "------ SEED --------3\n",
      "------ DATASET --------1\n",
      "PROB0.33\n",
      "------ SEED --------4\n",
      "------ DATASET --------1\n",
      "PROB0.33\n",
      "------ SEED --------5\n",
      "------ DATASET --------1\n",
      "PROB0.33\n",
      "------ SEED --------1\n",
      "------ DATASET --------2\n",
      "PROB0.33\n",
      "------ SEED --------2\n",
      "------ DATASET --------2\n",
      "PROB0.33\n",
      "------ SEED --------3\n",
      "------ DATASET --------2\n",
      "PROB0.33\n",
      "------ SEED --------4\n",
      "------ DATASET --------2\n",
      "PROB0.33\n",
      "------ SEED --------5\n",
      "------ DATASET --------2\n",
      "PROB0.33\n",
      "------ SEED --------1\n",
      "------ DATASET --------3\n",
      "PROB0.33\n",
      "------ SEED --------2\n",
      "------ DATASET --------3\n",
      "PROB0.33\n",
      "------ SEED --------3\n",
      "------ DATASET --------3\n",
      "PROB0.33\n",
      "------ SEED --------4\n",
      "------ DATASET --------3\n",
      "PROB0.33\n",
      "------ SEED --------5\n",
      "------ DATASET --------3\n",
      "PROB0.33\n",
      "------ SEED --------1\n",
      "------ DATASET --------4\n",
      "PROB0.33\n",
      "------ SEED --------2\n",
      "------ DATASET --------4\n",
      "PROB0.33\n",
      "------ SEED --------3\n",
      "------ DATASET --------4\n",
      "PROB0.33\n",
      "------ SEED --------4\n",
      "------ DATASET --------4\n",
      "PROB0.33\n",
      "------ SEED --------5\n",
      "------ DATASET --------4\n",
      "PROB0.33\n",
      "------ SEED --------1\n",
      "------ DATASET --------5\n",
      "PROB0.33\n",
      "------ SEED --------2\n",
      "------ DATASET --------5\n",
      "PROB0.33\n",
      "------ SEED --------3\n",
      "------ DATASET --------5\n",
      "PROB0.33\n",
      "------ SEED --------4\n",
      "------ DATASET --------5\n",
      "PROB0.33\n",
      "------ SEED --------5\n",
      "------ DATASET --------5\n",
      "PROB0.33\n"
     ]
    },
    {
     "data": {
      "text/plain": [
       "{'0.33': [0.8838383838383839,\n",
       "  0.8961038961038961,\n",
       "  0.8744588744588745,\n",
       "  0.8852813852813853,\n",
       "  0.8845598845598845,\n",
       "  0.8802308802308803,\n",
       "  0.8968253968253969,\n",
       "  0.8831168831168831,\n",
       "  0.8795093795093795,\n",
       "  0.8961038961038961,\n",
       "  0.8975468975468975,\n",
       "  0.8953823953823954,\n",
       "  0.8953823953823954,\n",
       "  0.8910533910533911,\n",
       "  0.9033189033189033,\n",
       "  0.8780663780663781,\n",
       "  0.886002886002886,\n",
       "  0.8896103896103896,\n",
       "  0.8831168831168831,\n",
       "  0.886002886002886,\n",
       "  0.8903318903318903,\n",
       "  0.8997113997113997,\n",
       "  0.8946608946608947,\n",
       "  0.9018759018759018,\n",
       "  0.9033189033189033]}"
      ]
     },
     "execution_count": 26,
     "metadata": {},
     "output_type": "execute_result"
    }
   ],
   "source": [
    "driver(LogisticRegression(max_iter=10000))"
   ]
  },
  {
   "cell_type": "markdown",
   "id": "754abdf7",
   "metadata": {},
   "source": [
    "### DecisionTree"
   ]
  },
  {
   "cell_type": "code",
   "execution_count": 29,
   "id": "f35aaadf",
   "metadata": {},
   "outputs": [
    {
     "data": {
      "text/plain": [
       "{'0.33': [0.8304473304473304,\n",
       "  0.8333333333333334,\n",
       "  0.8217893217893217,\n",
       "  0.8246753246753247,\n",
       "  0.8412698412698413,\n",
       "  0.8556998556998557,\n",
       "  0.8282828282828283,\n",
       "  0.823953823953824,\n",
       "  0.8520923520923521,\n",
       "  0.8391053391053391,\n",
       "  0.8412698412698413,\n",
       "  0.8376623376623377,\n",
       "  0.8196248196248196,\n",
       "  0.8354978354978355,\n",
       "  0.8427128427128427,\n",
       "  0.8326118326118326,\n",
       "  0.8347763347763347,\n",
       "  0.8391053391053391,\n",
       "  0.854978354978355,\n",
       "  0.841991341991342,\n",
       "  0.8477633477633477,\n",
       "  0.8427128427128427,\n",
       "  0.8391053391053391,\n",
       "  0.8492063492063492,\n",
       "  0.8571428571428571]}"
      ]
     },
     "execution_count": 29,
     "metadata": {},
     "output_type": "execute_result"
    }
   ],
   "source": [
    "driver(DecisionTreeClassifier())"
   ]
  },
  {
   "cell_type": "markdown",
   "id": "b42ec732",
   "metadata": {},
   "source": [
    "### KNN"
   ]
  },
  {
   "cell_type": "code",
   "execution_count": 30,
   "id": "663df96e",
   "metadata": {},
   "outputs": [
    {
     "data": {
      "text/plain": [
       "{'0.33': [0.7554112554112554,\n",
       "  0.7467532467532467,\n",
       "  0.7453102453102453,\n",
       "  0.7503607503607503,\n",
       "  0.753968253968254,\n",
       "  0.753968253968254,\n",
       "  0.7655122655122655,\n",
       "  0.753968253968254,\n",
       "  0.7626262626262627,\n",
       "  0.7633477633477633,\n",
       "  0.7467532467532467,\n",
       "  0.7604617604617605,\n",
       "  0.7676767676767676,\n",
       "  0.7489177489177489,\n",
       "  0.7640692640692641,\n",
       "  0.7748917748917749,\n",
       "  0.7828282828282829,\n",
       "  0.7698412698412699,\n",
       "  0.7662337662337663,\n",
       "  0.7698412698412699,\n",
       "  0.7691197691197691,\n",
       "  0.7597402597402597,\n",
       "  0.7604617604617605,\n",
       "  0.766955266955267,\n",
       "  0.7510822510822511]}"
      ]
     },
     "execution_count": 30,
     "metadata": {},
     "output_type": "execute_result"
    }
   ],
   "source": [
    "driver(KNeighborsClassifier())"
   ]
  },
  {
   "cell_type": "markdown",
   "id": "8262e8a7",
   "metadata": {},
   "source": [
    "### RandomForest"
   ]
  },
  {
   "cell_type": "code",
   "execution_count": 31,
   "id": "c1f28299",
   "metadata": {},
   "outputs": [
    {
     "data": {
      "text/plain": [
       "{'0.33': [0.9047619047619048,\n",
       "  0.9011544011544012,\n",
       "  0.886002886002886,\n",
       "  0.8997113997113997,\n",
       "  0.9033189033189033,\n",
       "  0.8968253968253969,\n",
       "  0.9069264069264069,\n",
       "  0.8910533910533911,\n",
       "  0.8924963924963925,\n",
       "  0.9105339105339105,\n",
       "  0.9054834054834054,\n",
       "  0.9076479076479076,\n",
       "  0.898989898989899,\n",
       "  0.9033189033189033,\n",
       "  0.9069264069264069,\n",
       "  0.8816738816738817,\n",
       "  0.8946608946608947,\n",
       "  0.9047619047619048,\n",
       "  0.9083694083694084,\n",
       "  0.8975468975468975,\n",
       "  0.9083694083694084,\n",
       "  0.9134199134199135,\n",
       "  0.9083694083694084,\n",
       "  0.9148629148629148,\n",
       "  0.9191919191919192]}"
      ]
     },
     "execution_count": 31,
     "metadata": {},
     "output_type": "execute_result"
    }
   ],
   "source": [
    "driver(RandomForestClassifier())"
   ]
  },
  {
   "cell_type": "code",
   "execution_count": null,
   "id": "b4a60e62",
   "metadata": {},
   "outputs": [],
   "source": []
  }
 ],
 "metadata": {
  "kernelspec": {
   "display_name": "Python 3",
   "language": "python",
   "name": "python3"
  },
  "language_info": {
   "codemirror_mode": {
    "name": "ipython",
    "version": 3
   },
   "file_extension": ".py",
   "mimetype": "text/x-python",
   "name": "python",
   "nbconvert_exporter": "python",
   "pygments_lexer": "ipython3",
   "version": "3.8.8"
  }
 },
 "nbformat": 4,
 "nbformat_minor": 5
}
