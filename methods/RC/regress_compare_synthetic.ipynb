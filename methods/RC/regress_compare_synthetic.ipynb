{
 "cells": [
  {
   "cell_type": "code",
   "execution_count": 38,
   "id": "3897af65",
   "metadata": {},
   "outputs": [],
   "source": [
    "import numpy as np\n",
    "import time\n",
    "import pandas as pd\n",
    "import matplotlib.pyplot as plt\n",
    "from sklearn.linear_model import LogisticRegression, LinearRegression, Lasso\n",
    "from sklearn.tree import DecisionTreeRegressor\n",
    "from sklearn.neighbors import KNeighborsRegressor\n",
    "from sklearn.metrics import accuracy_score, confusion_matrix, precision_score, recall_score, r2_score\n",
    "from sklearn.ensemble import RandomForestRegressor\n",
    "from sklearn.model_selection import train_test_split\n",
    "from sklearn.model_selection import RandomizedSearchCV\n",
    "from sklearn.preprocessing import MinMaxScaler\n",
    "import seaborn as sns\n",
    "import scipy.stats\n",
    "import time\n",
    "import os"
   ]
  },
  {
   "cell_type": "markdown",
   "id": "b177258d",
   "metadata": {},
   "source": [
    "## 0. Pre-processing"
   ]
  },
  {
   "cell_type": "markdown",
   "id": "c315ed18",
   "metadata": {},
   "source": [
    "## 1. Logistic Regression"
   ]
  },
  {
   "cell_type": "code",
   "execution_count": 49,
   "id": "d719f9b3",
   "metadata": {},
   "outputs": [],
   "source": [
    "def run(df, df_test, model):\n",
    "    t_unique = df['t'].unique()\n",
    "    \n",
    "    start = time.time()\n",
    "    \n",
    "    for t in t_unique:\n",
    "        buffer = df[df['t'] == t]\n",
    "        X = buffer.iloc[:, :2]\n",
    "        y = buffer['y']\n",
    "\n",
    "        lr = model.fit(X, y)\n",
    "\n",
    "        X_test = df_test.iloc[:, :2]\n",
    "        df_test['pred' + str(t)] = lr.predict(X_test)\n",
    "\n",
    "    ## EVALUATE PERFORMANCE\n",
    "    def find_highest_y(row):\n",
    "        if row['pred1'] > row['pred0']:\n",
    "            return 1\n",
    "        else:\n",
    "            return 0\n",
    "\n",
    "    def t_opt(row):\n",
    "        if row['y1'] > row['y0']:\n",
    "            return 1\n",
    "        else:\n",
    "            return 0\n",
    "        \n",
    "    def expected_outcomes(row):\n",
    "        if row['pred1'] > row['pred0']:\n",
    "            return row['y1']\n",
    "        else:\n",
    "            return row['y0']\n",
    "\n",
    "    df_test['t_opt'] = df_test.apply(lambda row: t_opt(row), axis=1) \n",
    "    df_test['y_opt'] = df_test.apply(lambda row: row['y1'] if row['y1'] > row['y0'] else row['y0'], axis=1) \n",
    "    \n",
    "    df_test['t_pred'] = df_test.apply(lambda row: find_highest_y(row), axis=1)\n",
    "    \n",
    "    end = time.time()\n",
    "    \n",
    "    df_test['realized_y'] = df_test.apply(lambda row: expected_outcomes(row), axis=1)\n",
    "    df_test['oos_regret'] = df_test['y_opt'] - df_test['realized_y']\n",
    "    hi = df_test['t_opt'] == df_test['t_pred']\n",
    "\n",
    "    return (df_test['t_opt'] == df_test['t_pred']).sum()/len(df_test), end-start, df_test['oos_regret'].sum()\n",
    "#     return df_test['realized_y'].mean()"
   ]
  },
  {
   "cell_type": "code",
   "execution_count": 50,
   "id": "a5374f34",
   "metadata": {},
   "outputs": [],
   "source": [
    "def driver(model):\n",
    "    probs = [0.1, 0.25, 0.5, 0.75, 0.9]\n",
    "    datasets = [1, 2, 3, 4, 5]\n",
    "    \n",
    "    policy_opt_dic = {}\n",
    "    times_dic = {}\n",
    "    regret_dic = {}\n",
    "    for prob in probs:\n",
    "        policy_opt = []\n",
    "        times = []\n",
    "        oos_regret = []\n",
    "        for dataset in datasets:\n",
    "            fp = '../../data/Athey_v1/500/'\n",
    "            fn = f'data_train_{prob}_{dataset}.csv'\n",
    "            fn_test = f'data_test_{prob}_{dataset}.csv'\n",
    "            fn_enc = f'data_train_enc_{prob}_{dataset}.csv'\n",
    "\n",
    "            df = pd.read_csv(os.path.join(fp, fn))\n",
    "            df_test = pd.read_csv(os.path.join(fp, fn_test))\n",
    "            if model is None:\n",
    "                policy_opt.append(df_test['y0'].mean())\n",
    "                df_test['y_opt'] = df_test.apply(lambda row: row['y1'] if row['y1'] > row['y0'] else row['y0'], axis=1) \n",
    "                regret = (df_test['y_opt'] - df_test['y0']).sum()\n",
    "                oos_regret.append(regret)\n",
    "            else:\n",
    "                opt, time, regret = run(df, df_test, model)\n",
    "                policy_opt.append(opt)\n",
    "                times.append(time)\n",
    "                oos_regret.append(regret)\n",
    "        policy_opt_dic[prob] = policy_opt\n",
    "        times_dic[prob] = times if model is not None else [np.nan]*5\n",
    "        regret_dic[prob] = oos_regret\n",
    "    return policy_opt_dic, times_dic, regret_dic"
   ]
  },
  {
   "cell_type": "code",
   "execution_count": 54,
   "id": "81c833fd",
   "metadata": {},
   "outputs": [],
   "source": [
    "df = pd.DataFrame(columns=['method', 'prob_opt', 'oosp'])"
   ]
  },
  {
   "cell_type": "markdown",
   "id": "44374428",
   "metadata": {},
   "source": [
    "### Lasso"
   ]
  },
  {
   "cell_type": "code",
   "execution_count": 52,
   "id": "82f791f3",
   "metadata": {},
   "outputs": [],
   "source": [
    "def make_df(dics, method):\n",
    "    prob_opt = []\n",
    "    oosp_opt = []\n",
    "    dataset = []\n",
    "    times = []\n",
    "    regret = []\n",
    "#     print(dics)\n",
    "    dic = dics[0]\n",
    "    for k, v in dic.items():\n",
    "        prob_opt += [k]*5\n",
    "        dataset += [1, 2, 3, 4, 5]\n",
    "        oosp_opt += v\n",
    "        \n",
    "        \n",
    "    for k, v in dics[1].items():\n",
    "        times += v\n",
    "        \n",
    "    for k, v in dics[2].items():\n",
    "        regret += v\n",
    "        \n",
    "    df = pd.DataFrame({'method': [method]*25, 'dataset': dataset, 'prob_opt': prob_opt, 'oosp': oosp_opt, 'oos_regret': regret, 'time_elapsed': times})\n",
    "    return df"
   ]
  },
  {
   "cell_type": "code",
   "execution_count": 55,
   "id": "58ed4572",
   "metadata": {},
   "outputs": [
    {
     "name": "stdout",
     "output_type": "stream",
     "text": [
      "25\n",
      "25\n"
     ]
    }
   ],
   "source": [
    "df = pd.concat([df, make_df(driver(None), 'random')], ignore_index=True)"
   ]
  },
  {
   "cell_type": "code",
   "execution_count": 56,
   "id": "2aee5111",
   "metadata": {},
   "outputs": [
    {
     "name": "stdout",
     "output_type": "stream",
     "text": [
      "25\n",
      "25\n"
     ]
    }
   ],
   "source": [
    "df = pd.concat([df, make_df(driver(Lasso(alpha=0.08)), 'lasso')], ignore_index=True)"
   ]
  },
  {
   "cell_type": "code",
   "execution_count": null,
   "id": "6d25a325-62a9-40f6-b5c6-b4794825f248",
   "metadata": {},
   "outputs": [],
   "source": []
  },
  {
   "cell_type": "markdown",
   "id": "1b1befc0",
   "metadata": {},
   "source": [
    "### Linear Regression"
   ]
  },
  {
   "cell_type": "code",
   "execution_count": 57,
   "id": "e8aefaf8",
   "metadata": {},
   "outputs": [
    {
     "name": "stdout",
     "output_type": "stream",
     "text": [
      "25\n",
      "25\n"
     ]
    }
   ],
   "source": [
    "df = pd.concat([df, make_df(driver(LinearRegression()), 'lr')], ignore_index=True)"
   ]
  },
  {
   "cell_type": "markdown",
   "id": "754abdf7",
   "metadata": {},
   "source": [
    "### DecisionTree"
   ]
  },
  {
   "cell_type": "code",
   "execution_count": 24,
   "id": "ba1a033b",
   "metadata": {},
   "outputs": [],
   "source": [
    "df = pd.concat([df, make_df(driver(DecisionTreeRegressor()), 'dt')], ignore_index=True)"
   ]
  },
  {
   "cell_type": "markdown",
   "id": "b42ec732",
   "metadata": {},
   "source": [
    "### KNN"
   ]
  },
  {
   "cell_type": "code",
   "execution_count": 25,
   "id": "8a40aa62",
   "metadata": {},
   "outputs": [],
   "source": [
    "df = pd.concat([df, make_df(driver(KNeighborsRegressor()), 'knn')], ignore_index=True)"
   ]
  },
  {
   "cell_type": "markdown",
   "id": "8262e8a7",
   "metadata": {},
   "source": [
    "### RandomForest"
   ]
  },
  {
   "cell_type": "code",
   "execution_count": 26,
   "id": "999fc436",
   "metadata": {},
   "outputs": [],
   "source": [
    "df = pd.concat([df, make_df(driver(RandomForestRegressor()), 'rf')], ignore_index=True)"
   ]
  },
  {
   "cell_type": "code",
   "execution_count": 60,
   "id": "b5c86062",
   "metadata": {},
   "outputs": [],
   "source": [
    "fp = '../results/RC/synthetic/'\n",
    "df.to_csv(os.path.join(fp, 'raw.csv'), index=False)"
   ]
  },
  {
   "cell_type": "code",
   "execution_count": 37,
   "id": "37d6605f",
   "metadata": {},
   "outputs": [
    {
     "data": {
      "text/plain": [
       "method  prob_opt\n",
       "lasso   0.10        0.523480\n",
       "        0.25        0.571180\n",
       "        0.50        0.626880\n",
       "        0.75        0.550720\n",
       "        0.90        0.495900\n",
       "lr      0.10        0.772400\n",
       "        0.25        0.772760\n",
       "        0.50        0.772720\n",
       "        0.75        0.767680\n",
       "        0.90        0.769920\n",
       "random  0.10        0.486046\n",
       "        0.25        0.486046\n",
       "        0.50        0.486046\n",
       "        0.75        0.486046\n",
       "        0.90        0.486046\n",
       "Name: oosp, dtype: float64"
      ]
     },
     "execution_count": 37,
     "metadata": {},
     "output_type": "execute_result"
    }
   ],
   "source": [
    "df.groupby(['method', 'prob_opt'])['oosp'].agg('mean')"
   ]
  },
  {
   "cell_type": "code",
   "execution_count": null,
   "id": "f49f05f5",
   "metadata": {},
   "outputs": [],
   "source": []
  }
 ],
 "metadata": {
  "kernelspec": {
   "display_name": "Python 3",
   "language": "python",
   "name": "python3"
  },
  "language_info": {
   "codemirror_mode": {
    "name": "ipython",
    "version": 3
   },
   "file_extension": ".py",
   "mimetype": "text/x-python",
   "name": "python",
   "nbconvert_exporter": "python",
   "pygments_lexer": "ipython3",
   "version": "3.8.8"
  }
 },
 "nbformat": 4,
 "nbformat_minor": 5
}
